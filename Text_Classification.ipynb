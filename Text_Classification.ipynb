{
  "nbformat": 4,
  "nbformat_minor": 0,
  "metadata": {
    "colab": {
      "name": "IMT 575 PS3.ipynb",
      "provenance": [],
      "collapsed_sections": [
        "mU2kXkkASqxS",
        "uPAP7XDlSYLP",
        "0cVWvCaZSuEz",
        "rXRN1AJPSvyB",
        "capvuMZdSwSr",
        "vUBWdlwASxuv",
        "zICazkraSy9J",
        "iLOKl1PoS240"
      ],
      "toc_visible": true
    },
    "kernelspec": {
      "name": "python3",
      "display_name": "Python 3"
    }
  },
  "cells": [
    {
      "cell_type": "markdown",
      "metadata": {
        "id": "teVBSxxu2-b4",
        "colab_type": "text"
      },
      "source": [
        "# **Which US Democratic Presidential Nominee said this? Warren? Biden? Sanders?**\n",
        "---\n",
        "### *Text Classification of quotes from candidates vying to be the Democratic presidential nominee for the 2020 US presidential election.*\n",
        "---\n",
        "\n",
        "Here, all data has been extracted from debates between candidates. We will build a NLP classification model to identify who said what for a subset of unlabeled data.\n",
        "\n",
        "\n",
        "The quotes are subjected to basic text-preprocessing steps such as\n",
        "1. Stopword removal\n",
        "2. Punctuation removal\n",
        "3. Lemmatization\n",
        "4. Tokenization using unigram\n",
        "\n",
        "To prepare data for modeling, I performed feature engineering. Here, I engineered features which utilize count of various components of the text such as character, word, punctuation etc. \n",
        "\n",
        "The text classification is done using **Supervised & Semi-Supervised techniques.**\n",
        "\n",
        "The following models were explored:\n",
        "1. Regularized Logistic Regression\n",
        "2. Random Forest\n",
        "3. XGBoost\n"
      ]
    },
    {
      "cell_type": "code",
      "metadata": {
        "id": "kogtj7VFSBxM",
        "colab_type": "code",
        "colab": {
          "base_uri": "https://localhost:8080/",
          "height": 69
        },
        "outputId": "ecaccee5-607e-4921-bbb9-a8100432f494"
      },
      "source": [
        "import pandas as pd\n",
        "import numpy as np\n",
        "import re\n",
        "from scipy.sparse import hstack\n",
        "import string\n",
        "\n",
        "from os import listdir\n",
        "from os.path import isfile, join\n",
        "\n",
        "\n",
        "import seaborn as sns\n",
        "import matplotlib.pyplot as plt\n",
        "%matplotlib inline\n",
        "\n",
        "import xgboost as xgb\n",
        "import sklearn\n",
        "from sklearn import model_selection, preprocessing\n",
        "from sklearn.feature_extraction.text import TfidfVectorizer, CountVectorizer\n",
        "from sklearn import decomposition, ensemble\n",
        "from sklearn.linear_model import LogisticRegression\n",
        "from sklearn.metrics import confusion_matrix \n",
        "from sklearn.metrics import accuracy_score \n",
        "from sklearn.metrics import classification_report \n",
        "\n",
        "from sklearn.ensemble import RandomForestClassifier\n",
        "\n",
        "import nltk\n",
        "from nltk.tokenize import WhitespaceTokenizer \n",
        "from nltk.corpus import stopwords\n",
        "from nltk.stem import WordNetLemmatizer "
      ],
      "execution_count": null,
      "outputs": [
        {
          "output_type": "stream",
          "text": [
            "/usr/local/lib/python3.6/dist-packages/statsmodels/tools/_testing.py:19: FutureWarning: pandas.util.testing is deprecated. Use the functions in the public API at pandas.testing instead.\n",
            "  import pandas.util.testing as tm\n"
          ],
          "name": "stderr"
        }
      ]
    },
    {
      "cell_type": "code",
      "metadata": {
        "id": "1s3Zy00vuWJj",
        "colab_type": "code",
        "colab": {
          "base_uri": "https://localhost:8080/",
          "height": 98
        },
        "outputId": "3e2f6231-b4a6-418a-cb38-a3842beab1c4"
      },
      "source": [
        "nltk.download(\"stopwords\")\n",
        "nltk.download(\"wordnet\")"
      ],
      "execution_count": null,
      "outputs": [
        {
          "output_type": "stream",
          "text": [
            "[nltk_data] Downloading package stopwords to /root/nltk_data...\n",
            "[nltk_data]   Package stopwords is already up-to-date!\n",
            "[nltk_data] Downloading package wordnet to /root/nltk_data...\n",
            "[nltk_data]   Package wordnet is already up-to-date!\n"
          ],
          "name": "stdout"
        },
        {
          "output_type": "execute_result",
          "data": {
            "text/plain": [
              "True"
            ]
          },
          "metadata": {
            "tags": []
          },
          "execution_count": 38
        }
      ]
    },
    {
      "cell_type": "markdown",
      "metadata": {
        "id": "k9xLCewwSM_J",
        "colab_type": "text"
      },
      "source": [
        "\n",
        "\n",
        "---\n",
        "\n",
        "\n",
        "\n",
        "# Set up\n",
        "\n",
        "\n",
        "---\n",
        "\n"
      ]
    },
    {
      "cell_type": "markdown",
      "metadata": {
        "id": "mU2kXkkASqxS",
        "colab_type": "text"
      },
      "source": [
        "#### 1. Load training and test dataset into dataframe\n",
        "\n",
        "---"
      ]
    },
    {
      "cell_type": "code",
      "metadata": {
        "id": "HzPYfT0A6c1k",
        "colab_type": "code",
        "colab": {}
      },
      "source": [
        "base_path = 'drive/My Drive/Colab Notebooks/Data/'\n",
        "def read_files(path):\n",
        "  onlyfiles = [f for f in listdir(path) if isfile(join(path, f))]\n",
        "  name_list, file_list = [], []\n",
        "  print(\"Reading in \", len(onlyfiles), \" files.\")\n",
        "  for f in onlyfiles:\n",
        "    file = open(path + \"/\" + f, 'r')\n",
        "    lines  = file.readlines()\n",
        "    file_list.append(lines)\n",
        "    name_list.append(f.split(\"_\")[:2])\n",
        "  print(\"Read \", len(name_list), \" files.\")\n",
        "  return(name_list,file_list)"
      ],
      "execution_count": null,
      "outputs": []
    },
    {
      "cell_type": "code",
      "metadata": {
        "id": "CjTZaKb0x658",
        "colab_type": "code",
        "colab": {
          "base_uri": "https://localhost:8080/",
          "height": 69
        },
        "outputId": "9f752d18-2ad7-4551-fae1-9bdb557fc997"
      },
      "source": [
        "#reading train data\n",
        "train_path = base_path + \"train\"\n",
        "names, file_content = read_files(train_path) "
      ],
      "execution_count": null,
      "outputs": [
        {
          "output_type": "stream",
          "text": [
            "Reading in  528  files.\n",
            "Read  528  files.\n"
          ],
          "name": "stdout"
        }
      ]
    },
    {
      "cell_type": "code",
      "metadata": {
        "id": "mKLCWnr80Uok",
        "colab_type": "code",
        "colab": {}
      },
      "source": [
        "#convert to dataframe\n",
        "#convert to data frame\n",
        "train_all = pd.DataFrame(file_content, columns = ['c'])\n",
        "split_data = train_all[\"c\"].str.split(\":\")\n",
        "#extract all names\n",
        "c_name = []\n",
        "c_quote = []\n",
        "for s in split_data:\n",
        "  c_name.append(s[0].split()[1].upper().replace(\"'\", \"\"))\n",
        "  c_quote.append(str(s[1:]))\n",
        "\n",
        "train_df = pd.DataFrame({\"label\" : c_name, \"Quotes\": c_quote})"
      ],
      "execution_count": null,
      "outputs": []
    },
    {
      "cell_type": "code",
      "metadata": {
        "id": "yc4mWBEA0g8v",
        "colab_type": "code",
        "colab": {
          "base_uri": "https://localhost:8080/"
        },
        "outputId": "b60096b9-ab19-4697-d315-e4f800a589ec"
      },
      "source": [
        "train_df.head()"
      ],
      "execution_count": null,
      "outputs": [
        {
          "output_type": "execute_result",
          "data": {
            "text/html": [
              "<div>\n",
              "<style scoped>\n",
              "    .dataframe tbody tr th:only-of-type {\n",
              "        vertical-align: middle;\n",
              "    }\n",
              "\n",
              "    .dataframe tbody tr th {\n",
              "        vertical-align: top;\n",
              "    }\n",
              "\n",
              "    .dataframe thead th {\n",
              "        text-align: right;\n",
              "    }\n",
              "</style>\n",
              "<table border=\"1\" class=\"dataframe\">\n",
              "  <thead>\n",
              "    <tr style=\"text-align: right;\">\n",
              "      <th></th>\n",
              "      <th>label</th>\n",
              "      <th>Quotes</th>\n",
              "    </tr>\n",
              "  </thead>\n",
              "  <tbody>\n",
              "    <tr>\n",
              "      <th>0</th>\n",
              "      <td>HARRIS</td>\n",
              "      <td>[' He was born… He has conducted foreign polic...</td>\n",
              "    </tr>\n",
              "    <tr>\n",
              "      <th>1</th>\n",
              "      <td>OROURKE</td>\n",
              "      <td>[' How else can we explain that we lose nearly...</td>\n",
              "    </tr>\n",
              "    <tr>\n",
              "      <th>2</th>\n",
              "      <td>HARRIS</td>\n",
              "      <td>[' Five million assault weapons are on the str...</td>\n",
              "    </tr>\n",
              "    <tr>\n",
              "      <th>3</th>\n",
              "      <td>BUTTIGIEG</td>\n",
              "      <td>[' My response is, I completely agree, and I w...</td>\n",
              "    </tr>\n",
              "    <tr>\n",
              "      <th>4</th>\n",
              "      <td>SANDERS</td>\n",
              "      <td>[' Second of all… Maybe you did that and made ...</td>\n",
              "    </tr>\n",
              "  </tbody>\n",
              "</table>\n",
              "</div>"
            ],
            "text/plain": [
              "       label                                             Quotes\n",
              "0     HARRIS  [' He was born… He has conducted foreign polic...\n",
              "1    OROURKE  [' How else can we explain that we lose nearly...\n",
              "2     HARRIS  [' Five million assault weapons are on the str...\n",
              "3  BUTTIGIEG  [' My response is, I completely agree, and I w...\n",
              "4    SANDERS  [' Second of all… Maybe you did that and made ..."
            ]
          },
          "metadata": {
            "tags": []
          },
          "execution_count": 6
        }
      ]
    },
    {
      "cell_type": "code",
      "metadata": {
        "id": "BS61MmTtzGsG",
        "colab_type": "code",
        "colab": {
          "base_uri": "https://localhost:8080/"
        },
        "outputId": "17797dc1-53bd-4c0b-a52b-82c6f4429b71"
      },
      "source": [
        "#reading test data\n",
        "test_path = base_path + \"test\"\n",
        "test_file, test_list = read_files(test_path)"
      ],
      "execution_count": null,
      "outputs": [
        {
          "output_type": "stream",
          "text": [
            "Reading in  111  files.\n",
            "Read  111  files.\n"
          ],
          "name": "stdout"
        }
      ]
    },
    {
      "cell_type": "code",
      "metadata": {
        "id": "23R-zLwFA0YH",
        "colab_type": "code",
        "colab": {}
      },
      "source": [
        "new_file = []\n",
        "for f_ in test_file:\n",
        "  new_file.append(\"_\".join(f_))\n",
        "#test_file"
      ],
      "execution_count": null,
      "outputs": []
    },
    {
      "cell_type": "code",
      "metadata": {
        "id": "2QpJWzrzzfIA",
        "colab_type": "code",
        "colab": {
          "base_uri": "https://localhost:8080/",
          "height": 665
        },
        "outputId": "47fb8029-485e-4b9c-d0c9-e60c8d1324cf"
      },
      "source": [
        "test_df = pd.DataFrame({\"file_name\" : new_file,\"Quotes\": test_list})\n",
        "test_df.head()"
      ],
      "execution_count": null,
      "outputs": [
        {
          "output_type": "execute_result",
          "data": {
            "text/html": [
              "<div>\n",
              "<style scoped>\n",
              "    .dataframe tbody tr th:only-of-type {\n",
              "        vertical-align: middle;\n",
              "    }\n",
              "\n",
              "    .dataframe tbody tr th {\n",
              "        vertical-align: top;\n",
              "    }\n",
              "\n",
              "    .dataframe thead th {\n",
              "        text-align: right;\n",
              "    }\n",
              "</style>\n",
              "<table border=\"1\" class=\"dataframe\">\n",
              "  <thead>\n",
              "    <tr style=\"text-align: right;\">\n",
              "      <th></th>\n",
              "      <th>file_name</th>\n",
              "      <th>Quotes</th>\n",
              "    </tr>\n",
              "  </thead>\n",
              "  <tbody>\n",
              "    <tr>\n",
              "      <th>0</th>\n",
              "      <td>test_78.txt</td>\n",
              "      <td>[Yeah, I think that we’re on the right track i...</td>\n",
              "    </tr>\n",
              "    <tr>\n",
              "      <th>1</th>\n",
              "      <td>test_64.txt</td>\n",
              "      <td>[There are only two countries in the world tha...</td>\n",
              "    </tr>\n",
              "    <tr>\n",
              "      <th>2</th>\n",
              "      <td>test_96.txt</td>\n",
              "      <td>[Sure, there’s one point we’re really missing ...</td>\n",
              "    </tr>\n",
              "    <tr>\n",
              "      <th>3</th>\n",
              "      <td>test_94.txt</td>\n",
              "      <td>[I’m not wedded to a particular solution, but ...</td>\n",
              "    </tr>\n",
              "    <tr>\n",
              "      <th>4</th>\n",
              "      <td>test_3.txt</td>\n",
              "      <td>[There’s a larger battle going on on the plane...</td>\n",
              "    </tr>\n",
              "  </tbody>\n",
              "</table>\n",
              "</div>"
            ],
            "text/plain": [
              "     file_name                                             Quotes\n",
              "0  test_78.txt  [Yeah, I think that we’re on the right track i...\n",
              "1  test_64.txt  [There are only two countries in the world tha...\n",
              "2  test_96.txt  [Sure, there’s one point we’re really missing ...\n",
              "3  test_94.txt  [I’m not wedded to a particular solution, but ...\n",
              "4   test_3.txt  [There’s a larger battle going on on the plane..."
            ]
          },
          "metadata": {
            "tags": []
          },
          "execution_count": 9
        }
      ]
    },
    {
      "cell_type": "code",
      "metadata": {
        "id": "T8w0oMvnPqNU",
        "colab_type": "code",
        "colab": {
          "base_uri": "https://localhost:8080/"
        },
        "outputId": "b484d461-8ab5-42b8-976e-9e8776dd976f"
      },
      "source": [
        "test_df['Quotes'] = test_df['Quotes'].apply(lambda x: ','.join(map(str, x)))\n",
        "test_df.head()"
      ],
      "execution_count": null,
      "outputs": [
        {
          "output_type": "execute_result",
          "data": {
            "text/html": [
              "<div>\n",
              "<style scoped>\n",
              "    .dataframe tbody tr th:only-of-type {\n",
              "        vertical-align: middle;\n",
              "    }\n",
              "\n",
              "    .dataframe tbody tr th {\n",
              "        vertical-align: top;\n",
              "    }\n",
              "\n",
              "    .dataframe thead th {\n",
              "        text-align: right;\n",
              "    }\n",
              "</style>\n",
              "<table border=\"1\" class=\"dataframe\">\n",
              "  <thead>\n",
              "    <tr style=\"text-align: right;\">\n",
              "      <th></th>\n",
              "      <th>file_name</th>\n",
              "      <th>Quotes</th>\n",
              "    </tr>\n",
              "  </thead>\n",
              "  <tbody>\n",
              "    <tr>\n",
              "      <th>0</th>\n",
              "      <td>test_78.txt</td>\n",
              "      <td>Yeah, I think that we’re on the right track in...</td>\n",
              "    </tr>\n",
              "    <tr>\n",
              "      <th>1</th>\n",
              "      <td>test_64.txt</td>\n",
              "      <td>There are only two countries in the world that...</td>\n",
              "    </tr>\n",
              "    <tr>\n",
              "      <th>2</th>\n",
              "      <td>test_96.txt</td>\n",
              "      <td>Sure, there’s one point we’re really missing o...</td>\n",
              "    </tr>\n",
              "    <tr>\n",
              "      <th>3</th>\n",
              "      <td>test_94.txt</td>\n",
              "      <td>I’m not wedded to a particular solution, but I...</td>\n",
              "    </tr>\n",
              "    <tr>\n",
              "      <th>4</th>\n",
              "      <td>test_3.txt</td>\n",
              "      <td>There’s a larger battle going on on the planet...</td>\n",
              "    </tr>\n",
              "  </tbody>\n",
              "</table>\n",
              "</div>"
            ],
            "text/plain": [
              "     file_name                                             Quotes\n",
              "0  test_78.txt  Yeah, I think that we’re on the right track in...\n",
              "1  test_64.txt  There are only two countries in the world that...\n",
              "2  test_96.txt  Sure, there’s one point we’re really missing o...\n",
              "3  test_94.txt  I’m not wedded to a particular solution, but I...\n",
              "4   test_3.txt  There’s a larger battle going on on the planet..."
            ]
          },
          "metadata": {
            "tags": []
          },
          "execution_count": 10
        }
      ]
    },
    {
      "cell_type": "markdown",
      "metadata": {
        "id": "IsZU0O2wKk0K",
        "colab_type": "text"
      },
      "source": [
        "There are 528 training observations and 111 test observations"
      ]
    },
    {
      "cell_type": "markdown",
      "metadata": {
        "id": "uPAP7XDlSYLP",
        "colab_type": "text"
      },
      "source": [
        "#### 2. Create a vector of training labels.\n",
        "\n",
        "---"
      ]
    },
    {
      "cell_type": "code",
      "metadata": {
        "id": "AeFF4VrxK78v",
        "colab_type": "code",
        "colab": {
          "base_uri": "https://localhost:8080/"
        },
        "outputId": "5af7ad68-5276-44ca-9348-b83b36698563"
      },
      "source": [
        "#instances where the name of the file does not align with the name at the start of the text\n",
        "count = 0\n",
        "candidate_name = train_df.label\n",
        "for i in range(len(names)):\n",
        "  c = candidate_name[i].lower().strip()\n",
        "  #print(names[i], c)\n",
        "  if (names[i][0].lower().replace(\"'\", \"\") != c):\n",
        "    print(names[i][0], c)\n",
        "    count += 1\n",
        "print(\"There are\", count, \"mismatch in training files\")"
      ],
      "execution_count": null,
      "outputs": [
        {
          "output_type": "stream",
          "text": [
            "There are 0 mismatch in training files\n"
          ],
          "name": "stdout"
        }
      ]
    },
    {
      "cell_type": "markdown",
      "metadata": {
        "id": "GryEsLl2LEJh",
        "colab_type": "text"
      },
      "source": [
        "There are no observations where the candidate name in the file name and in the file content don't match.\n"
      ]
    },
    {
      "cell_type": "code",
      "metadata": {
        "id": "K6UAcU7KOJ-f",
        "colab_type": "code",
        "colab": {
          "base_uri": "https://localhost:8080/"
        },
        "outputId": "baf2dd86-0389-4732-e1f4-b366373faa53"
      },
      "source": [
        "#find training labels\n",
        "ax = sns.countplot(x='label',data=train_df)\n",
        "\n",
        "ax.set_xticklabels(ax.get_xticklabels(), rotation=40, ha=\"right\")\n",
        "plt.tight_layout()\n",
        "plt.show()"
      ],
      "execution_count": null,
      "outputs": [
        {
          "output_type": "display_data",
          "data": {
            "image/png": "[encoded data removed]",
            "text/plain": [
              "<Figure size 432x288 with 1 Axes>"
            ]
          },
          "metadata": {
            "tags": [],
            "needs_background": "light"
          }
        }
      ]
    },
    {
      "cell_type": "markdown",
      "metadata": {
        "id": "kvfuieuLtHOC",
        "colab_type": "text"
      },
      "source": [
        "We can see that distribution is around ~60 for 5 candidates and for the other 5 it is around ~30 counts. The lowest count is for Tulsi Gabbard and highest for Elizabeth Warren."
      ]
    },
    {
      "cell_type": "code",
      "metadata": {
        "id": "D3IZFavMOzUP",
        "colab_type": "code",
        "colab": {
          "base_uri": "https://localhost:8080/"
        },
        "outputId": "a6cb8b6d-efb6-421d-fe05-d5720ee0a3f7"
      },
      "source": [
        "class_names = train_df.label.unique()\n",
        "print(\"There are\", len(class_names), \"candidates.\\nThey are as follows:\", class_names)\n",
        "#creating a vector of labels\n",
        "# label encode the target variable \n",
        "train_y = train_df.label\n",
        "encoder = preprocessing.LabelEncoder()\n",
        "train_y_vector = encoder.fit_transform(train_y)\n",
        "print(train_y_vector)"
      ],
      "execution_count": null,
      "outputs": [
        {
          "output_type": "stream",
          "text": [
            "There are 12 candidates.\n",
            "They are as follows: ['HARRIS' 'OROURKE' 'BUTTIGIEG' 'SANDERS' 'BIDEN' 'WARREN' 'BOOKER' 'YANG'\n",
            " 'KLOBUCHAR' 'CASTRO' 'GABBARD' 'STEYER']\n",
            "[ 5  7  5  2  8  7  2  8  5  0 10  0  5 10  1  8 10  7  8  2  0 11  0  6\n",
            " 10  6 10  7  5  0 10 11  8  5  1  7 10  6  8 11 10  7  1 10 10  0  5  2\n",
            "  6  0 11  2 10  6  6  2  5  5  7  1 10  7  6  7  2 10  5  2 10 10  6  5\n",
            "  6 10 11  5  8  2  8  8 10  6 10 10 10  8  2 10  8  3  1  0 10  7 11  6\n",
            "  1  0  1 11  6  8  0  7 10  5  8  5  5  2  0 11  1  1 10  1  5  3  8  7\n",
            "  7  8  3  6 10  1  2  3 10  5  7  1  2 10  6  1  0  6  5 10 10 10  1  6\n",
            "  1  3 10 10  8  2  2  2 10  1  7  8  6  5 10 11  2  6  7 11  0  3  1 11\n",
            "  5  5  7  8 10  2 10  8  0 10  0  6  8  8 10 11  5  8  0 11  0  8  7  5\n",
            "  2  1  0  8  3  6  1  5 10  1  0 10 10 11  8  1  8  2  6  7  6 10  1 10\n",
            " 11  0 11  0  7  8  8  3  8  0  8  5  6 10  6  6 10  3  7  0  8  0  7  8\n",
            "  6 10  6  5  3  6  6  1  0  8  8  1  8  6  3  6  8  6  2 11  6  2 10 11\n",
            "  5 10  5  3  2 10  7  7 10  6  5 10  6  1  8 11  5 11  1 10  6 10  7  2\n",
            "  0  7 10  7  0  8  1  7 10 11  5 10  8  3  2 10  8  2  8  5  8 10  0  2\n",
            "  3 10  2  3  7  5  2 10 10  5 10  7 10  6 10  3  1 10  0 10  2  1 10 10\n",
            " 10  2  2  1  0  5 10  2  6  6  2  3  8  3 10 11  2  1 10  1  1 10 10  1\n",
            "  5  0  8  8  0  2  1  1  2 10  8 11 10  0  0  0  0  6  8  6  2  8  1 10\n",
            "  5  5  2  1  6  2  2  1 11  1  0  2  6  2 11  1  7 11  0  1  6  6  7  4\n",
            "  9  4  9  0  0  0  4  9  9  0  0  4  0  4  9  4  9  9  4  4  4  0  4  9\n",
            "  0  9  9  0  9  4  9  4  0  4  9  0  4  9  0  9  4  4  0  9  0  0  0  9\n",
            "  9  0  0  9  6 11  2  2 11  2  5  5  6  3  6  6  3  8  8  1  2  0  0  6\n",
            "  1  1  8  1  1  2  2 11  1  1  8  3  0  1  6  6  2  6  2  6  8  2 10  7\n",
            "  8  8  8  2  2  3  0  8  2 11  8  8  3 11  2 11  2  6 10  2 10  8  2  2]\n"
          ],
          "name": "stdout"
        }
      ]
    },
    {
      "cell_type": "markdown",
      "metadata": {
        "id": "0cVWvCaZSuEz",
        "colab_type": "text"
      },
      "source": [
        "#### 3. Remove stopwords & punctuations\n",
        "\n",
        "---"
      ]
    },
    {
      "cell_type": "code",
      "metadata": {
        "id": "Kefrd29Txk5N",
        "colab_type": "code",
        "colab": {
          "base_uri": "https://localhost:8080/"
        },
        "outputId": "9701ac28-b9f3-4cb3-f257-d4e0e7d7cfeb"
      },
      "source": [
        "#to find custom stopwords\n",
        "count_words = train_df.Quotes.str.split(expand=True).stack().value_counts(normalize=True).mul(100).round(3)\n",
        "for ix, c in count_words[:50].items():\n",
        "  print(ix, c)\n"
      ],
      "execution_count": null,
      "outputs": [
        {
          "output_type": "stream",
          "text": [
            "the 4.265\n",
            "to 3.491\n",
            "and 2.513\n",
            "of 2.185\n",
            "that 2.178\n",
            "a 1.963\n",
            "I 1.913\n",
            "in 1.878\n",
            "we 1.592\n",
            "is 1.463\n",
            "have 1.113\n",
            "for 1.018\n",
            "this 0.958\n",
            "[' 0.807\n",
            "on 0.776\n",
            "And 0.698\n",
            "our 0.69\n",
            "it 0.684\n",
            "are 0.673\n",
            "not 0.643\n",
            "you 0.608\n",
            "people 0.595\n",
            "with 0.585\n",
            "what 0.56\n",
            "be 0.552\n",
            "about 0.511\n",
            "who 0.451\n",
            "do 0.451\n",
            "We 0.439\n",
            "they 0.424\n",
            "was 0.416\n",
            "will 0.415\n",
            "going 0.384\n",
            "as 0.375\n",
            "my 0.361\n",
            "has 0.358\n",
            "all 0.32\n",
            "get 0.32\n",
            "but 0.318\n",
            "at 0.318\n",
            "can 0.309\n",
            "when 0.305\n",
            "from 0.297\n",
            "think 0.289\n",
            "because 0.286\n",
            "their 0.283\n",
            "need 0.283\n",
            "up 0.28\n",
            "by 0.279\n",
            "he 0.271\n"
          ],
          "name": "stdout"
        }
      ]
    },
    {
      "cell_type": "markdown",
      "metadata": {
        "id": "CzBlc1V00XX8",
        "colab_type": "text"
      },
      "source": [
        "Here after finding the frequency of the words in the quotes, we notice that amongst the general stopwords of english languages other words such as - United, States, America, American, People appear too. It is obvious that candidates vying for the ticker will be using these words in their speeches and hence can be added to the stopwords list"
      ]
    },
    {
      "cell_type": "code",
      "metadata": {
        "id": "YYc3CbfataEk",
        "colab_type": "code",
        "colab": {}
      },
      "source": [
        "my_stopwords = nltk.corpus.stopwords.words('english')\n",
        "my_stopwords.extend([\"america\", \"american\", \"united\", \"people\"])\n",
        "my_punctuation = '!\"$%&\\'()*+,-.…/:;<=>?[\\\\]^_`{|}~•@’'\n",
        "def cleanQuotes(quote):\n",
        "  #print(quote)\n",
        "  quote = quote.lower() # lower case\n",
        "  #print(quote)\n",
        "  quote = quote.strip()#remove double spacing\n",
        "  #quote_new = quote.translate(str.maketrans(dict.fromkeys(string.punctuation)))  \n",
        "  quote = \"\".join([char.lower() for char in quote if char not in my_punctuation]) \n",
        "  quote = re.sub('['+my_punctuation + ']+', ' ', quote) # strip punctuation\n",
        "  quote = \" \".join([word for word in quote.split(' ') if word not in my_stopwords])\n",
        "  return quote.strip()"
      ],
      "execution_count": null,
      "outputs": []
    },
    {
      "cell_type": "code",
      "metadata": {
        "id": "kNz0aTWE0rv-",
        "colab_type": "code",
        "colab": {}
      },
      "source": [
        "train_df['clean_quote'] = train_df.Quotes.apply(cleanQuotes)"
      ],
      "execution_count": null,
      "outputs": []
    },
    {
      "cell_type": "code",
      "metadata": {
        "id": "mXKByQqq1G14",
        "colab_type": "code",
        "colab": {
          "base_uri": "https://localhost:8080/"
        },
        "outputId": "973eb6eb-6e2a-4c9d-8825-b0af90f209c5"
      },
      "source": [
        "train_df.head()"
      ],
      "execution_count": null,
      "outputs": [
        {
          "output_type": "execute_result",
          "data": {
            "text/html": [
              "<div>\n",
              "<style scoped>\n",
              "    .dataframe tbody tr th:only-of-type {\n",
              "        vertical-align: middle;\n",
              "    }\n",
              "\n",
              "    .dataframe tbody tr th {\n",
              "        vertical-align: top;\n",
              "    }\n",
              "\n",
              "    .dataframe thead th {\n",
              "        text-align: right;\n",
              "    }\n",
              "</style>\n",
              "<table border=\"1\" class=\"dataframe\">\n",
              "  <thead>\n",
              "    <tr style=\"text-align: right;\">\n",
              "      <th></th>\n",
              "      <th>label</th>\n",
              "      <th>Quotes</th>\n",
              "      <th>clean_quote</th>\n",
              "    </tr>\n",
              "  </thead>\n",
              "  <tbody>\n",
              "    <tr>\n",
              "      <th>0</th>\n",
              "      <td>HARRIS</td>\n",
              "      <td>[' He was born… He has conducted foreign polic...</td>\n",
              "      <td>born conducted foreign policy since day one bo...</td>\n",
              "    </tr>\n",
              "    <tr>\n",
              "      <th>1</th>\n",
              "      <td>OROURKE</td>\n",
              "      <td>[' How else can we explain that we lose nearly...</td>\n",
              "      <td>else explain lose nearly 40000 country gun vio...</td>\n",
              "    </tr>\n",
              "    <tr>\n",
              "      <th>2</th>\n",
              "      <td>HARRIS</td>\n",
              "      <td>[' Five million assault weapons are on the str...</td>\n",
              "      <td>five million assault weapons streets today cou...</td>\n",
              "    </tr>\n",
              "    <tr>\n",
              "      <th>3</th>\n",
              "      <td>BUTTIGIEG</td>\n",
              "      <td>[' My response is, I completely agree, and I w...</td>\n",
              "      <td>response completely agree welcome challenge co...</td>\n",
              "    </tr>\n",
              "    <tr>\n",
              "      <th>4</th>\n",
              "      <td>SANDERS</td>\n",
              "      <td>[' Second of all… Maybe you did that and made ...</td>\n",
              "      <td>second maybe made money healthcare job run non...</td>\n",
              "    </tr>\n",
              "  </tbody>\n",
              "</table>\n",
              "</div>"
            ],
            "text/plain": [
              "       label  ...                                        clean_quote\n",
              "0     HARRIS  ...  born conducted foreign policy since day one bo...\n",
              "1    OROURKE  ...  else explain lose nearly 40000 country gun vio...\n",
              "2     HARRIS  ...  five million assault weapons streets today cou...\n",
              "3  BUTTIGIEG  ...  response completely agree welcome challenge co...\n",
              "4    SANDERS  ...  second maybe made money healthcare job run non...\n",
              "\n",
              "[5 rows x 3 columns]"
            ]
          },
          "metadata": {
            "tags": []
          },
          "execution_count": 17
        }
      ]
    },
    {
      "cell_type": "markdown",
      "metadata": {
        "id": "Xc6YJxA4StfR",
        "colab_type": "text"
      },
      "source": [
        "#### 4. Stem/lemmatize your training data using a stemmer/lemmatizer of your choosing\n",
        "\n",
        "---"
      ]
    },
    {
      "cell_type": "markdown",
      "metadata": {
        "id": "IEcy-r5V2WZq",
        "colab_type": "text"
      },
      "source": [
        "Stem/lemmatize your training data using a stemmer/lemmatizer of your choosing. Show a before and after using a few observations and comment on what you see."
      ]
    },
    {
      "cell_type": "code",
      "metadata": {
        "id": "QejnzxBa2TMI",
        "colab_type": "code",
        "colab": {}
      },
      "source": [
        "lemmatizer = WordNetLemmatizer() \n",
        "tk = WhitespaceTokenizer() \n",
        "def lemmatizeQuotes(quote):\n",
        "  quote = \" \".join([lemmatizer.lemmatize(word) for word in tk.tokenize(quote)])\n",
        "  return(quote)"
      ],
      "execution_count": null,
      "outputs": []
    },
    {
      "cell_type": "code",
      "metadata": {
        "id": "4ZA55A-I8HS0",
        "colab_type": "code",
        "colab": {}
      },
      "source": [
        "train_df[\"final_clean\"] = train_df.clean_quote.apply(lambda x: lemmatizeQuotes(x))"
      ],
      "execution_count": null,
      "outputs": []
    },
    {
      "cell_type": "code",
      "metadata": {
        "id": "opLjhMk68Smt",
        "colab_type": "code",
        "colab": {
          "base_uri": "https://localhost:8080/",
          "height": 632
        },
        "outputId": "cd5dcfa0-7fed-44e0-93bf-03132ba1c928"
      },
      "source": [
        "train_df.head()"
      ],
      "execution_count": null,
      "outputs": [
        {
          "output_type": "execute_result",
          "data": {
            "text/html": [
              "<div>\n",
              "<style scoped>\n",
              "    .dataframe tbody tr th:only-of-type {\n",
              "        vertical-align: middle;\n",
              "    }\n",
              "\n",
              "    .dataframe tbody tr th {\n",
              "        vertical-align: top;\n",
              "    }\n",
              "\n",
              "    .dataframe thead th {\n",
              "        text-align: right;\n",
              "    }\n",
              "</style>\n",
              "<table border=\"1\" class=\"dataframe\">\n",
              "  <thead>\n",
              "    <tr style=\"text-align: right;\">\n",
              "      <th></th>\n",
              "      <th>label</th>\n",
              "      <th>Quotes</th>\n",
              "      <th>clean_quote</th>\n",
              "      <th>final_clean</th>\n",
              "    </tr>\n",
              "  </thead>\n",
              "  <tbody>\n",
              "    <tr>\n",
              "      <th>0</th>\n",
              "      <td>HARRIS</td>\n",
              "      <td>[' He was born… He has conducted foreign polic...</td>\n",
              "      <td>born conducted foreign policy since day one bo...</td>\n",
              "      <td>born conducted foreign policy since day one bo...</td>\n",
              "    </tr>\n",
              "    <tr>\n",
              "      <th>1</th>\n",
              "      <td>OROURKE</td>\n",
              "      <td>[' How else can we explain that we lose nearly...</td>\n",
              "      <td>else explain lose nearly 40000 country gun vio...</td>\n",
              "      <td>else explain lose nearly 40000 country gun vio...</td>\n",
              "    </tr>\n",
              "    <tr>\n",
              "      <th>2</th>\n",
              "      <td>HARRIS</td>\n",
              "      <td>[' Five million assault weapons are on the str...</td>\n",
              "      <td>five million assault weapons streets today cou...</td>\n",
              "      <td>five million assault weapon street today cours...</td>\n",
              "    </tr>\n",
              "    <tr>\n",
              "      <th>3</th>\n",
              "      <td>BUTTIGIEG</td>\n",
              "      <td>[' My response is, I completely agree, and I w...</td>\n",
              "      <td>response completely agree welcome challenge co...</td>\n",
              "      <td>response completely agree welcome challenge co...</td>\n",
              "    </tr>\n",
              "    <tr>\n",
              "      <th>4</th>\n",
              "      <td>SANDERS</td>\n",
              "      <td>[' Second of all… Maybe you did that and made ...</td>\n",
              "      <td>second maybe made money healthcare job run non...</td>\n",
              "      <td>second maybe made money healthcare job run non...</td>\n",
              "    </tr>\n",
              "  </tbody>\n",
              "</table>\n",
              "</div>"
            ],
            "text/plain": [
              "       label  ...                                        final_clean\n",
              "0     HARRIS  ...  born conducted foreign policy since day one bo...\n",
              "1    OROURKE  ...  else explain lose nearly 40000 country gun vio...\n",
              "2     HARRIS  ...  five million assault weapon street today cours...\n",
              "3  BUTTIGIEG  ...  response completely agree welcome challenge co...\n",
              "4    SANDERS  ...  second maybe made money healthcare job run non...\n",
              "\n",
              "[5 rows x 4 columns]"
            ]
          },
          "metadata": {
            "tags": []
          },
          "execution_count": 20
        }
      ]
    },
    {
      "cell_type": "code",
      "metadata": {
        "id": "xQw5hHkZHoYw",
        "colab_type": "code",
        "colab": {
          "base_uri": "https://localhost:8080/"
        },
        "outputId": "b1c76095-6ba7-4291-a61b-10773db1cbdf"
      },
      "source": [
        "for i in range(3):\n",
        "  print(\"The text\\n\",train_df.iloc[i, 2])\n",
        "  print(\"After lemmatization\\n\",train_df.iloc[i, 3])"
      ],
      "execution_count": null,
      "outputs": [
        {
          "output_type": "stream",
          "text": [
            "The text\n",
            " born conducted foreign policy since day one born fragile ego fails understand one important responsibilities commanderinchief concern security nation homeland way understands part strength nation therefore extension ability secure vibrant military walk room around globe respected keep word consistent speak truth loyal donald trump done pulling paris agreement pulling iran nuclear deal consistently turning back stood us difficult times including recently kurds points donald trump greatest threat national security nation moment\n",
            "After lemmatization\n",
            " born conducted foreign policy since day one born fragile ego fails understand one important responsibility commanderinchief concern security nation homeland way understands part strength nation therefore extension ability secure vibrant military walk room around globe respected keep word consistent speak truth loyal donald trump done pulling paris agreement pulling iran nuclear deal consistently turning back stood u difficult time including recently kurd point donald trump greatest threat national security nation moment\n",
            "The text\n",
            " else explain lose nearly 40000 country gun violence number country comes even close know solutions yet nothing changed country money buys influence access increasingly outcomes centers disease control prevented actually studying issue first place president make sure ban political action committee contributions member congress candidate federal office listen panderson coopers corporations special interests\n",
            "After lemmatization\n",
            " else explain lose nearly 40000 country gun violence number country come even close know solution yet nothing changed country money buy influence access increasingly outcome center disease control prevented actually studying issue first place president make sure ban political action committee contribution member congress candidate federal office listen panderson cooper corporation special interest\n",
            "The text\n",
            " five million assault weapons streets today course debate eight die gun violence leading cause death young black men gun violence top six reasons totaled serious matter personally hugged mothers homicide victims care tell looked autopsy photographs care tell attended police officer funerals care tell im done need action congress years act failed courage im elected ill give 100 days pull act together put bill desk signature dont take executive action put place comprehensive background check requirement ban importation assault weapons country cause time act\n",
            "After lemmatization\n",
            " five million assault weapon street today course debate eight die gun violence leading cause death young black men gun violence top six reason totaled serious matter personally hugged mother homicide victim care tell looked autopsy photograph care tell attended police officer funeral care tell im done need action congress year act failed courage im elected ill give 100 day pull act together put bill desk signature dont take executive action put place comprehensive background check requirement ban importation assault weapon country cause time act\n"
          ],
          "name": "stdout"
        }
      ]
    },
    {
      "cell_type": "markdown",
      "metadata": {
        "id": "Aj3TZD38KTbv",
        "colab_type": "text"
      },
      "source": [
        "As is observed from the texts, plurals such as mothers, victims are converted to mother, victim. I chose lemmatization as it generates valid lemma."
      ]
    },
    {
      "cell_type": "markdown",
      "metadata": {
        "id": "rXRN1AJPSvyB",
        "colab_type": "text"
      },
      "source": [
        "#### 5. Tokenize your training data using unigrams\n",
        "\n",
        "---"
      ]
    },
    {
      "cell_type": "markdown",
      "metadata": {
        "id": "ikPM-Wnu2kBm",
        "colab_type": "text"
      },
      "source": [
        "Tokenize your training data using unigrams (hint: see sklearn’s CountVectorizer). If you set upper and lower limits on word frequency, what are they? How many unique tokens are in your vocabulary?"
      ]
    },
    {
      "cell_type": "code",
      "metadata": {
        "id": "C-KllLtz20GG",
        "colab_type": "code",
        "colab": {
          "base_uri": "https://localhost:8080/"
        },
        "outputId": "cc218cec-5349-4666-eb33-3889d15b3fff"
      },
      "source": [
        "vectorizer = CountVectorizer(max_df=0.95, min_df=13, ngram_range=(1, 1))\n",
        "# apply transformation\n",
        "train_x = vectorizer.fit_transform(train_df['final_clean'])\n",
        "tf_feature_names = vectorizer.get_feature_names()\n",
        "print(\"There are \", len(tf_feature_names), \"unique tokens in our vocabulary\")"
      ],
      "execution_count": null,
      "outputs": [
        {
          "output_type": "stream",
          "text": [
            "There are  432 unique tokens in our vocabulary\n"
          ],
          "name": "stdout"
        }
      ]
    },
    {
      "cell_type": "markdown",
      "metadata": {
        "id": "8l3mvZTxOC-y",
        "colab_type": "text"
      },
      "source": [
        "Here, I have used a max_df of 0.95 to ignore words which occur in more than 95% of documents and min_df 13 to eliminate those which occur in less than 13 documents as there were no candidates with less than 13 quotes."
      ]
    },
    {
      "cell_type": "markdown",
      "metadata": {
        "id": "capvuMZdSwSr",
        "colab_type": "text"
      },
      "source": [
        "#### 6. Process the test data in a manner identical to the training data.\n",
        "\n",
        "---"
      ]
    },
    {
      "cell_type": "code",
      "metadata": {
        "id": "Yv_Y1MHeO0cv",
        "colab_type": "code",
        "colab": {}
      },
      "source": [
        "test_x = vectorizer.transform(test_df.Quotes)"
      ],
      "execution_count": null,
      "outputs": []
    },
    {
      "cell_type": "code",
      "metadata": {
        "id": "jffJfsYoQEDP",
        "colab_type": "code",
        "colab": {
          "base_uri": "https://localhost:8080/"
        },
        "outputId": "86a0531c-6aae-41c9-f292-a970da5f8da5"
      },
      "source": [
        "print(\"The number of feature in training is\", train_x.shape[1], \"and in test is\" ,test_x.shape[1])"
      ],
      "execution_count": null,
      "outputs": [
        {
          "output_type": "stream",
          "text": [
            "The number of feature in training is 432 and in test is 432\n"
          ],
          "name": "stdout"
        }
      ]
    },
    {
      "cell_type": "markdown",
      "metadata": {
        "id": "mS2SAXhtQzle",
        "colab_type": "text"
      },
      "source": [
        "Therefore, the number of features for your training and test data are identical."
      ]
    },
    {
      "cell_type": "markdown",
      "metadata": {
        "id": "7eO8XY2hSSFT",
        "colab_type": "text"
      },
      "source": [
        "---\n",
        "# Supervised Learning\n",
        "---"
      ]
    },
    {
      "cell_type": "markdown",
      "metadata": {
        "id": "PEDyFpNdSxQp",
        "colab_type": "text"
      },
      "source": [
        "#### 7. Feature Engineering\n",
        "\n",
        "\n",
        "---"
      ]
    },
    {
      "cell_type": "markdown",
      "metadata": {
        "id": "MJQxvEB9Q79N",
        "colab_type": "text"
      },
      "source": [
        "Here, I engineered features which utilize count of various components of the text such as character, word, punctuation etc. "
      ]
    },
    {
      "cell_type": "code",
      "metadata": {
        "id": "-Fp0Hku2TdeW",
        "colab_type": "code",
        "colab": {}
      },
      "source": [
        "train_df['char_count'] = train_df['Quotes'].apply(len)\n",
        "train_df['word_count'] = train_df['Quotes'].apply(lambda x: len(x.split()))\n",
        "train_df['word_density'] = train_df['char_count']/(train_df['word_count'] + 1)\n",
        "train_df['punctuation_count'] = train_df['Quotes'].apply(lambda x: len(\"\".join(_ for _ in x if _ in string.punctuation))) \n",
        "train_df['title_word_count'] = train_df['Quotes'].apply(lambda x: len([word for word in x.split() if word.istitle()]))\n",
        "train_df['upper_case_word_count'] = train_df['Quotes'].apply(lambda x: len([word for word in x.split() if word.isupper()]))\n"
      ],
      "execution_count": null,
      "outputs": []
    },
    {
      "cell_type": "code",
      "metadata": {
        "id": "cFw01QeYlRHa",
        "colab_type": "code",
        "colab": {}
      },
      "source": [
        "test_df['char_count'] = test_df['Quotes'].apply(len)\n",
        "test_df['word_count'] = test_df['Quotes'].apply(lambda x: len(x.split()))\n",
        "test_df['word_density'] = test_df['char_count']/(test_df['word_count']+1)\n",
        "test_df['punctuation_count'] = test_df['Quotes'].apply(lambda x: len(\"\".join(_ for _ in x if _ in string.punctuation))) \n",
        "test_df['title_word_count'] = test_df['Quotes'].apply(lambda x: len([word for word in x.split() if word.istitle()]))\n",
        "test_df['upper_case_word_count'] = test_df['Quotes'].apply(lambda x: len([word for word in x.split() if word.isupper()]))\n"
      ],
      "execution_count": null,
      "outputs": []
    },
    {
      "cell_type": "code",
      "metadata": {
        "id": "SAJoq8sejlBe",
        "colab_type": "code",
        "colab": {}
      },
      "source": [
        "num_features = [f_ for f_ in train_df.columns\\\n",
        "                if f_ in [\"char_count\", \"word_count\", \"word_density\", 'punctuation_count','title_word_count', 'upper_case_word_count']]\n",
        "\n",
        "for f in num_features:\n",
        "    all_cut = pd.cut(pd.concat([train_df[f], test_df[f]], axis=0), bins=20, labels=False, retbins=False)\n",
        "    train_df[f] = all_cut.values[:train_df.shape[0]]\n",
        "    test_df[f] = all_cut.values[train_df.shape[0]:]\n",
        "\n",
        "train_num_features = train_df[num_features].values\n",
        "test_num_features = test_df[num_features].values"
      ],
      "execution_count": null,
      "outputs": []
    },
    {
      "cell_type": "code",
      "metadata": {
        "id": "5j_D3ifFlqdu",
        "colab_type": "code",
        "colab": {}
      },
      "source": [
        "train_features = hstack([train_x, train_num_features]) \n",
        "test_features = hstack([test_x, test_num_features])"
      ],
      "execution_count": null,
      "outputs": []
    },
    {
      "cell_type": "code",
      "metadata": {
        "id": "bYeOVKzBmgIH",
        "colab_type": "code",
        "colab": {
          "base_uri": "https://localhost:8080/"
        },
        "outputId": "b2a7c1fc-6615-4cfa-ce1a-0e6d87963e6e"
      },
      "source": [
        "print(\"The number of features in train set\", train_features.shape[1])\n",
        "print(\"The number of features in test set\", test_features.shape[1])"
      ],
      "execution_count": null,
      "outputs": [
        {
          "output_type": "stream",
          "text": [
            "The number of features in train set 438\n",
            "The number of features in test set 438\n"
          ],
          "name": "stdout"
        }
      ]
    },
    {
      "cell_type": "markdown",
      "metadata": {
        "id": "OnH7_YtUztG7",
        "colab_type": "text"
      },
      "source": [
        "Thus, the number of features remain identical after adding 6 more features. These features were added to the countVectorizer generated features."
      ]
    },
    {
      "cell_type": "markdown",
      "metadata": {
        "id": "vUBWdlwASxuv",
        "colab_type": "text"
      },
      "source": [
        "#### 8. Regularized Logistic Regression Model\n",
        "\n",
        "---"
      ]
    },
    {
      "cell_type": "markdown",
      "metadata": {
        "id": "tfC3ch5h3mI8",
        "colab_type": "text"
      },
      "source": [
        "Here I have used L1 regulaization for the losgistic regression model. "
      ]
    },
    {
      "cell_type": "code",
      "metadata": {
        "id": "U62KHwEpnYX2",
        "colab_type": "code",
        "colab": {
          "base_uri": "https://localhost:8080/"
        },
        "outputId": "1256a243-0624-4ae2-bb3e-643dd022050d"
      },
      "source": [
        "clf_rl = LogisticRegression(penalty=\"l1\", solver='liblinear')\n",
        "clf_rl.fit(train_features,train_y)\n",
        "print(\"For the regularized logistic regression, the coefficents are as follows:\\n\")\n",
        "print(clf_rl.coef_)"
      ],
      "execution_count": null,
      "outputs": [
        {
          "output_type": "stream",
          "text": [
            "For the regularized logistic regression, the coefficents are as follows:\n",
            "\n",
            "[[ 0.          0.          0.         ...  0.31791381  0.16142344\n",
            "  -0.09281191]\n",
            " [ 0.          0.          0.         ... -0.14105083 -0.05026256\n",
            "  -0.12746043]\n",
            " [ 0.          0.          0.452483   ... -0.41088216 -0.13892871\n",
            "  -0.03996163]\n",
            " ...\n",
            " [ 0.          0.          0.         ... -0.43695904  0.\n",
            "  -0.19559368]\n",
            " [ 0.          0.          0.         ...  0.         -0.10927211\n",
            "   0.06460022]\n",
            " [ 0.          0.          0.         ... -0.04604217 -0.02667437\n",
            "  -0.14576445]]\n"
          ],
          "name": "stdout"
        }
      ]
    },
    {
      "cell_type": "code",
      "metadata": {
        "id": "1zJWigjyp6DI",
        "colab_type": "code",
        "colab": {
          "base_uri": "https://localhost:8080/"
        },
        "outputId": "a46eaef6-3a9d-45a4-82f8-84c67aba88bf"
      },
      "source": [
        "print(\"The training accuracy score is\", clf_rl.score(train_features, train_y)*100, \"%\")"
      ],
      "execution_count": null,
      "outputs": [
        {
          "output_type": "stream",
          "text": [
            "The training accuracy score is 96.96969696969697 %\n"
          ],
          "name": "stdout"
        }
      ]
    },
    {
      "cell_type": "markdown",
      "metadata": {
        "id": "Ke-cBj_y536Q",
        "colab_type": "text"
      },
      "source": [
        "The model performs exceptionally well in terms of accuracy. Now, lets explore class-specific metrics."
      ]
    },
    {
      "cell_type": "code",
      "metadata": {
        "id": "NPFo-H6t0hX2",
        "colab_type": "code",
        "colab": {
          "base_uri": "https://localhost:8080/"
        },
        "outputId": "87966475-4236-43d0-8683-ed486b974924"
      },
      "source": [
        "rl_report = classification_report(train_y, clf_rl.predict(train_features))\n",
        "\n",
        "matrix = confusion_matrix(train_y, clf_rl.predict(train_features), labels = class_names)\n",
        "rl_acc = matrix.diagonal()/matrix.sum(axis=1 )\n",
        "c1_df = pd.DataFrame({'accuracy': rl_acc}, index=class_names)\n",
        "cm1_df = pd.DataFrame(matrix, index = class_names, columns = class_names)\n",
        "\n",
        "print(rl_report)\n",
        "print(\"=========================================================\\n\\n\\nThe accuracy for each class is\\n\\n\\n\", c1_df)\n",
        "print(\"=========================================================\\n\\n\\nConfusion Matrix\\n\\n\")\n",
        "cm1_df.head(12)"
      ],
      "execution_count": null,
      "outputs": [
        {
          "output_type": "stream",
          "text": [
            "              precision    recall  f1-score   support\n",
            "\n",
            "       BIDEN       0.97      0.97      0.97        60\n",
            "      BOOKER       0.98      0.94      0.96        50\n",
            "   BUTTIGIEG       0.95      1.00      0.98        60\n",
            "      CASTRO       0.95      0.91      0.93        23\n",
            "     GABBARD       1.00      1.00      1.00        16\n",
            "      HARRIS       0.97      0.97      0.97        40\n",
            "   KLOBUCHAR       1.00      0.98      0.99        55\n",
            "     OROURKE       1.00      1.00      1.00        33\n",
            "     SANDERS       0.98      1.00      0.99        60\n",
            "      STEYER       1.00      1.00      1.00        19\n",
            "      WARREN       0.92      0.97      0.95        80\n",
            "        YANG       1.00      0.84      0.92        32\n",
            "\n",
            "    accuracy                           0.97       528\n",
            "   macro avg       0.98      0.97      0.97       528\n",
            "weighted avg       0.97      0.97      0.97       528\n",
            "\n",
            "=========================================================\n",
            "\n",
            "\n",
            "The accuracy for each class is\n",
            "\n",
            "\n",
            "            accuracy\n",
            "HARRIS     0.975000\n",
            "OROURKE    1.000000\n",
            "BUTTIGIEG  1.000000\n",
            "SANDERS    1.000000\n",
            "BIDEN      0.966667\n",
            "WARREN     0.975000\n",
            "BOOKER     0.940000\n",
            "YANG       0.843750\n",
            "KLOBUCHAR  0.981818\n",
            "CASTRO     0.913043\n",
            "GABBARD    1.000000\n",
            "STEYER     1.000000\n",
            "=========================================================\n",
            "\n",
            "\n",
            "Confusion Matrix\n",
            "\n",
            "\n"
          ],
          "name": "stdout"
        },
        {
          "output_type": "execute_result",
          "data": {
            "text/html": [
              "<div>\n",
              "<style scoped>\n",
              "    .dataframe tbody tr th:only-of-type {\n",
              "        vertical-align: middle;\n",
              "    }\n",
              "\n",
              "    .dataframe tbody tr th {\n",
              "        vertical-align: top;\n",
              "    }\n",
              "\n",
              "    .dataframe thead th {\n",
              "        text-align: right;\n",
              "    }\n",
              "</style>\n",
              "<table border=\"1\" class=\"dataframe\">\n",
              "  <thead>\n",
              "    <tr style=\"text-align: right;\">\n",
              "      <th></th>\n",
              "      <th>HARRIS</th>\n",
              "      <th>OROURKE</th>\n",
              "      <th>BUTTIGIEG</th>\n",
              "      <th>SANDERS</th>\n",
              "      <th>BIDEN</th>\n",
              "      <th>WARREN</th>\n",
              "      <th>BOOKER</th>\n",
              "      <th>YANG</th>\n",
              "      <th>KLOBUCHAR</th>\n",
              "      <th>CASTRO</th>\n",
              "      <th>GABBARD</th>\n",
              "      <th>STEYER</th>\n",
              "    </tr>\n",
              "  </thead>\n",
              "  <tbody>\n",
              "    <tr>\n",
              "      <th>HARRIS</th>\n",
              "      <td>39</td>\n",
              "      <td>0</td>\n",
              "      <td>1</td>\n",
              "      <td>0</td>\n",
              "      <td>0</td>\n",
              "      <td>0</td>\n",
              "      <td>0</td>\n",
              "      <td>0</td>\n",
              "      <td>0</td>\n",
              "      <td>0</td>\n",
              "      <td>0</td>\n",
              "      <td>0</td>\n",
              "    </tr>\n",
              "    <tr>\n",
              "      <th>OROURKE</th>\n",
              "      <td>0</td>\n",
              "      <td>33</td>\n",
              "      <td>0</td>\n",
              "      <td>0</td>\n",
              "      <td>0</td>\n",
              "      <td>0</td>\n",
              "      <td>0</td>\n",
              "      <td>0</td>\n",
              "      <td>0</td>\n",
              "      <td>0</td>\n",
              "      <td>0</td>\n",
              "      <td>0</td>\n",
              "    </tr>\n",
              "    <tr>\n",
              "      <th>BUTTIGIEG</th>\n",
              "      <td>0</td>\n",
              "      <td>0</td>\n",
              "      <td>60</td>\n",
              "      <td>0</td>\n",
              "      <td>0</td>\n",
              "      <td>0</td>\n",
              "      <td>0</td>\n",
              "      <td>0</td>\n",
              "      <td>0</td>\n",
              "      <td>0</td>\n",
              "      <td>0</td>\n",
              "      <td>0</td>\n",
              "    </tr>\n",
              "    <tr>\n",
              "      <th>SANDERS</th>\n",
              "      <td>0</td>\n",
              "      <td>0</td>\n",
              "      <td>0</td>\n",
              "      <td>60</td>\n",
              "      <td>0</td>\n",
              "      <td>0</td>\n",
              "      <td>0</td>\n",
              "      <td>0</td>\n",
              "      <td>0</td>\n",
              "      <td>0</td>\n",
              "      <td>0</td>\n",
              "      <td>0</td>\n",
              "    </tr>\n",
              "    <tr>\n",
              "      <th>BIDEN</th>\n",
              "      <td>0</td>\n",
              "      <td>0</td>\n",
              "      <td>0</td>\n",
              "      <td>0</td>\n",
              "      <td>58</td>\n",
              "      <td>1</td>\n",
              "      <td>1</td>\n",
              "      <td>0</td>\n",
              "      <td>0</td>\n",
              "      <td>0</td>\n",
              "      <td>0</td>\n",
              "      <td>0</td>\n",
              "    </tr>\n",
              "    <tr>\n",
              "      <th>WARREN</th>\n",
              "      <td>0</td>\n",
              "      <td>0</td>\n",
              "      <td>0</td>\n",
              "      <td>0</td>\n",
              "      <td>1</td>\n",
              "      <td>78</td>\n",
              "      <td>0</td>\n",
              "      <td>0</td>\n",
              "      <td>0</td>\n",
              "      <td>1</td>\n",
              "      <td>0</td>\n",
              "      <td>0</td>\n",
              "    </tr>\n",
              "    <tr>\n",
              "      <th>BOOKER</th>\n",
              "      <td>1</td>\n",
              "      <td>0</td>\n",
              "      <td>0</td>\n",
              "      <td>0</td>\n",
              "      <td>1</td>\n",
              "      <td>1</td>\n",
              "      <td>47</td>\n",
              "      <td>0</td>\n",
              "      <td>0</td>\n",
              "      <td>0</td>\n",
              "      <td>0</td>\n",
              "      <td>0</td>\n",
              "    </tr>\n",
              "    <tr>\n",
              "      <th>YANG</th>\n",
              "      <td>0</td>\n",
              "      <td>0</td>\n",
              "      <td>1</td>\n",
              "      <td>1</td>\n",
              "      <td>0</td>\n",
              "      <td>3</td>\n",
              "      <td>0</td>\n",
              "      <td>27</td>\n",
              "      <td>0</td>\n",
              "      <td>0</td>\n",
              "      <td>0</td>\n",
              "      <td>0</td>\n",
              "    </tr>\n",
              "    <tr>\n",
              "      <th>KLOBUCHAR</th>\n",
              "      <td>0</td>\n",
              "      <td>0</td>\n",
              "      <td>0</td>\n",
              "      <td>0</td>\n",
              "      <td>0</td>\n",
              "      <td>1</td>\n",
              "      <td>0</td>\n",
              "      <td>0</td>\n",
              "      <td>54</td>\n",
              "      <td>0</td>\n",
              "      <td>0</td>\n",
              "      <td>0</td>\n",
              "    </tr>\n",
              "    <tr>\n",
              "      <th>CASTRO</th>\n",
              "      <td>0</td>\n",
              "      <td>0</td>\n",
              "      <td>1</td>\n",
              "      <td>0</td>\n",
              "      <td>0</td>\n",
              "      <td>1</td>\n",
              "      <td>0</td>\n",
              "      <td>0</td>\n",
              "      <td>0</td>\n",
              "      <td>21</td>\n",
              "      <td>0</td>\n",
              "      <td>0</td>\n",
              "    </tr>\n",
              "    <tr>\n",
              "      <th>GABBARD</th>\n",
              "      <td>0</td>\n",
              "      <td>0</td>\n",
              "      <td>0</td>\n",
              "      <td>0</td>\n",
              "      <td>0</td>\n",
              "      <td>0</td>\n",
              "      <td>0</td>\n",
              "      <td>0</td>\n",
              "      <td>0</td>\n",
              "      <td>0</td>\n",
              "      <td>16</td>\n",
              "      <td>0</td>\n",
              "    </tr>\n",
              "    <tr>\n",
              "      <th>STEYER</th>\n",
              "      <td>0</td>\n",
              "      <td>0</td>\n",
              "      <td>0</td>\n",
              "      <td>0</td>\n",
              "      <td>0</td>\n",
              "      <td>0</td>\n",
              "      <td>0</td>\n",
              "      <td>0</td>\n",
              "      <td>0</td>\n",
              "      <td>0</td>\n",
              "      <td>0</td>\n",
              "      <td>19</td>\n",
              "    </tr>\n",
              "  </tbody>\n",
              "</table>\n",
              "</div>"
            ],
            "text/plain": [
              "           HARRIS  OROURKE  BUTTIGIEG  ...  CASTRO  GABBARD  STEYER\n",
              "HARRIS         39        0          1  ...       0        0       0\n",
              "OROURKE         0       33          0  ...       0        0       0\n",
              "BUTTIGIEG       0        0         60  ...       0        0       0\n",
              "SANDERS         0        0          0  ...       0        0       0\n",
              "BIDEN           0        0          0  ...       0        0       0\n",
              "WARREN          0        0          0  ...       1        0       0\n",
              "BOOKER          1        0          0  ...       0        0       0\n",
              "YANG            0        0          1  ...       0        0       0\n",
              "KLOBUCHAR       0        0          0  ...       0        0       0\n",
              "CASTRO          0        0          1  ...      21        0       0\n",
              "GABBARD         0        0          0  ...       0       16       0\n",
              "STEYER          0        0          0  ...       0        0      19\n",
              "\n",
              "[12 rows x 12 columns]"
            ]
          },
          "metadata": {
            "tags": []
          },
          "execution_count": 32
        }
      ]
    },
    {
      "cell_type": "markdown",
      "metadata": {
        "id": "lNywuKv-6D31",
        "colab_type": "text"
      },
      "source": [
        "As is made obvious from the confusion metrics, there are very few misclassified data points. From observing the accuracy and confusion matrix, we know that the candidate - YANG has the most misclassified quotes with a count of 5 and accuracy of 0.843. Thus, here the performance of the model is not as good as other classes where there are no to 2 misclassified points. It is also worth noting that the classifier has 100% accuracy for classes GABBARD, SANDER, BUTTIGIEG, OROURKE, STEYER alongwith almost perfect precision, recall and f1- score in some of these classes."
      ]
    },
    {
      "cell_type": "markdown",
      "metadata": {
        "id": "zICazkraSy9J",
        "colab_type": "text"
      },
      "source": [
        "#### 9. Tree-based Model\n",
        "\n",
        "---"
      ]
    },
    {
      "cell_type": "markdown",
      "metadata": {
        "id": "idaVsBdv7sRa",
        "colab_type": "text"
      },
      "source": [
        "Here, I'm using a random forest model as there ensemble component will help idenitfy good split criteria. It also decorrelates tree though at the expense of interpretability."
      ]
    },
    {
      "cell_type": "code",
      "metadata": {
        "id": "cEi57FhjrJiG",
        "colab_type": "code",
        "colab": {
          "base_uri": "https://localhost:8080/"
        },
        "outputId": "04e5353a-fdd6-4d49-81b3-d4656e283b87"
      },
      "source": [
        "clf_rf = RandomForestClassifier(bootstrap=True, class_weight=None, criterion='gini',\n",
        "            max_depth=100, max_leaf_nodes=None, min_impurity_split=None,\n",
        "            min_samples_leaf=3, min_samples_split=10, n_estimators=10, random_state=None)\n",
        "\n",
        "clf_rf.fit(train_features,train_y)"
      ],
      "execution_count": null,
      "outputs": [
        {
          "output_type": "execute_result",
          "data": {
            "text/plain": [
              "RandomForestClassifier(bootstrap=True, ccp_alpha=0.0, class_weight=None,\n",
              "                       criterion='gini', max_depth=100, max_features='auto',\n",
              "                       max_leaf_nodes=None, max_samples=None,\n",
              "                       min_impurity_decrease=0.0, min_impurity_split=None,\n",
              "                       min_samples_leaf=3, min_samples_split=10,\n",
              "                       min_weight_fraction_leaf=0.0, n_estimators=10,\n",
              "                       n_jobs=None, oob_score=False, random_state=None,\n",
              "                       verbose=0, warm_start=False)"
            ]
          },
          "metadata": {
            "tags": []
          },
          "execution_count": 33
        }
      ]
    },
    {
      "cell_type": "code",
      "metadata": {
        "id": "GqkUV5X2rfT9",
        "colab_type": "code",
        "colab": {
          "base_uri": "https://localhost:8080/"
        },
        "outputId": "0056ec71-91e4-41a4-ff10-6f7d599bee17"
      },
      "source": [
        "print(\"The training accuracy score is\", clf_rf.score(train_features, train_y)*100, \"%\")"
      ],
      "execution_count": null,
      "outputs": [
        {
          "output_type": "stream",
          "text": [
            "The training accuracy score is 81.25 %\n"
          ],
          "name": "stdout"
        }
      ]
    },
    {
      "cell_type": "code",
      "metadata": {
        "id": "Uu6C2Snp8xC8",
        "colab_type": "code",
        "colab": {
          "base_uri": "https://localhost:8080/"
        },
        "outputId": "139fe2e2-94ee-4fc2-f235-521160e31dc5"
      },
      "source": [
        "rf_report = classification_report(train_y, clf_rf.predict(train_features))\n",
        "\n",
        "matrix = confusion_matrix(train_y, clf_rf.predict(train_features), labels = class_names)\n",
        "rf_acc = matrix.diagonal()/matrix.sum(axis=1 )\n",
        "c2_df = pd.DataFrame({'accuracy': rf_acc}, index=class_names)\n",
        "cm2_df = pd.DataFrame(matrix, index = class_names, columns = class_names)\n",
        "\n",
        "print(rf_report)\n",
        "print(\"=========================================================\\n\\n\\nThe accuracy for each class is\\n\\n\\n\", c2_df)\n",
        "print(\"=========================================================\\n\\n\\nConfusion Matrix\\n\\n\")\n",
        "cm2_df.head(12)"
      ],
      "execution_count": null,
      "outputs": [
        {
          "output_type": "stream",
          "text": [
            "              precision    recall  f1-score   support\n",
            "\n",
            "       BIDEN       0.82      0.85      0.84        60\n",
            "      BOOKER       0.77      0.80      0.78        50\n",
            "   BUTTIGIEG       0.84      0.87      0.85        60\n",
            "      CASTRO       1.00      0.65      0.79        23\n",
            "     GABBARD       1.00      0.62      0.77        16\n",
            "      HARRIS       0.87      0.82      0.85        40\n",
            "   KLOBUCHAR       0.81      0.78      0.80        55\n",
            "     OROURKE       1.00      0.70      0.82        33\n",
            "     SANDERS       0.81      0.97      0.88        60\n",
            "      STEYER       1.00      0.63      0.77        19\n",
            "      WARREN       0.68      0.93      0.78        80\n",
            "        YANG       0.90      0.56      0.69        32\n",
            "\n",
            "    accuracy                           0.81       528\n",
            "   macro avg       0.87      0.77      0.80       528\n",
            "weighted avg       0.83      0.81      0.81       528\n",
            "\n",
            "=========================================================\n",
            "\n",
            "\n",
            "The accuracy for each class is\n",
            "\n",
            "\n",
            "            accuracy\n",
            "HARRIS     0.825000\n",
            "OROURKE    0.696970\n",
            "BUTTIGIEG  0.866667\n",
            "SANDERS    0.966667\n",
            "BIDEN      0.850000\n",
            "WARREN     0.925000\n",
            "BOOKER     0.800000\n",
            "YANG       0.562500\n",
            "KLOBUCHAR  0.781818\n",
            "CASTRO     0.652174\n",
            "GABBARD    0.625000\n",
            "STEYER     0.631579\n",
            "=========================================================\n",
            "\n",
            "\n",
            "Confusion Matrix\n",
            "\n",
            "\n"
          ],
          "name": "stdout"
        },
        {
          "output_type": "execute_result",
          "data": {
            "text/html": [
              "<div>\n",
              "<style scoped>\n",
              "    .dataframe tbody tr th:only-of-type {\n",
              "        vertical-align: middle;\n",
              "    }\n",
              "\n",
              "    .dataframe tbody tr th {\n",
              "        vertical-align: top;\n",
              "    }\n",
              "\n",
              "    .dataframe thead th {\n",
              "        text-align: right;\n",
              "    }\n",
              "</style>\n",
              "<table border=\"1\" class=\"dataframe\">\n",
              "  <thead>\n",
              "    <tr style=\"text-align: right;\">\n",
              "      <th></th>\n",
              "      <th>HARRIS</th>\n",
              "      <th>OROURKE</th>\n",
              "      <th>BUTTIGIEG</th>\n",
              "      <th>SANDERS</th>\n",
              "      <th>BIDEN</th>\n",
              "      <th>WARREN</th>\n",
              "      <th>BOOKER</th>\n",
              "      <th>YANG</th>\n",
              "      <th>KLOBUCHAR</th>\n",
              "      <th>CASTRO</th>\n",
              "      <th>GABBARD</th>\n",
              "      <th>STEYER</th>\n",
              "    </tr>\n",
              "  </thead>\n",
              "  <tbody>\n",
              "    <tr>\n",
              "      <th>HARRIS</th>\n",
              "      <td>33</td>\n",
              "      <td>0</td>\n",
              "      <td>0</td>\n",
              "      <td>1</td>\n",
              "      <td>1</td>\n",
              "      <td>2</td>\n",
              "      <td>1</td>\n",
              "      <td>0</td>\n",
              "      <td>2</td>\n",
              "      <td>0</td>\n",
              "      <td>0</td>\n",
              "      <td>0</td>\n",
              "    </tr>\n",
              "    <tr>\n",
              "      <th>OROURKE</th>\n",
              "      <td>0</td>\n",
              "      <td>23</td>\n",
              "      <td>3</td>\n",
              "      <td>1</td>\n",
              "      <td>1</td>\n",
              "      <td>2</td>\n",
              "      <td>2</td>\n",
              "      <td>1</td>\n",
              "      <td>0</td>\n",
              "      <td>0</td>\n",
              "      <td>0</td>\n",
              "      <td>0</td>\n",
              "    </tr>\n",
              "    <tr>\n",
              "      <th>BUTTIGIEG</th>\n",
              "      <td>1</td>\n",
              "      <td>0</td>\n",
              "      <td>52</td>\n",
              "      <td>1</td>\n",
              "      <td>1</td>\n",
              "      <td>5</td>\n",
              "      <td>0</td>\n",
              "      <td>0</td>\n",
              "      <td>0</td>\n",
              "      <td>0</td>\n",
              "      <td>0</td>\n",
              "      <td>0</td>\n",
              "    </tr>\n",
              "    <tr>\n",
              "      <th>SANDERS</th>\n",
              "      <td>0</td>\n",
              "      <td>0</td>\n",
              "      <td>0</td>\n",
              "      <td>58</td>\n",
              "      <td>2</td>\n",
              "      <td>0</td>\n",
              "      <td>0</td>\n",
              "      <td>0</td>\n",
              "      <td>0</td>\n",
              "      <td>0</td>\n",
              "      <td>0</td>\n",
              "      <td>0</td>\n",
              "    </tr>\n",
              "    <tr>\n",
              "      <th>BIDEN</th>\n",
              "      <td>1</td>\n",
              "      <td>0</td>\n",
              "      <td>1</td>\n",
              "      <td>1</td>\n",
              "      <td>51</td>\n",
              "      <td>3</td>\n",
              "      <td>2</td>\n",
              "      <td>0</td>\n",
              "      <td>1</td>\n",
              "      <td>0</td>\n",
              "      <td>0</td>\n",
              "      <td>0</td>\n",
              "    </tr>\n",
              "    <tr>\n",
              "      <th>WARREN</th>\n",
              "      <td>0</td>\n",
              "      <td>0</td>\n",
              "      <td>0</td>\n",
              "      <td>2</td>\n",
              "      <td>1</td>\n",
              "      <td>74</td>\n",
              "      <td>1</td>\n",
              "      <td>1</td>\n",
              "      <td>1</td>\n",
              "      <td>0</td>\n",
              "      <td>0</td>\n",
              "      <td>0</td>\n",
              "    </tr>\n",
              "    <tr>\n",
              "      <th>BOOKER</th>\n",
              "      <td>0</td>\n",
              "      <td>0</td>\n",
              "      <td>2</td>\n",
              "      <td>1</td>\n",
              "      <td>2</td>\n",
              "      <td>3</td>\n",
              "      <td>40</td>\n",
              "      <td>0</td>\n",
              "      <td>2</td>\n",
              "      <td>0</td>\n",
              "      <td>0</td>\n",
              "      <td>0</td>\n",
              "    </tr>\n",
              "    <tr>\n",
              "      <th>YANG</th>\n",
              "      <td>1</td>\n",
              "      <td>0</td>\n",
              "      <td>1</td>\n",
              "      <td>1</td>\n",
              "      <td>1</td>\n",
              "      <td>9</td>\n",
              "      <td>1</td>\n",
              "      <td>18</td>\n",
              "      <td>0</td>\n",
              "      <td>0</td>\n",
              "      <td>0</td>\n",
              "      <td>0</td>\n",
              "    </tr>\n",
              "    <tr>\n",
              "      <th>KLOBUCHAR</th>\n",
              "      <td>1</td>\n",
              "      <td>0</td>\n",
              "      <td>2</td>\n",
              "      <td>1</td>\n",
              "      <td>0</td>\n",
              "      <td>7</td>\n",
              "      <td>1</td>\n",
              "      <td>0</td>\n",
              "      <td>43</td>\n",
              "      <td>0</td>\n",
              "      <td>0</td>\n",
              "      <td>0</td>\n",
              "    </tr>\n",
              "    <tr>\n",
              "      <th>CASTRO</th>\n",
              "      <td>0</td>\n",
              "      <td>0</td>\n",
              "      <td>1</td>\n",
              "      <td>1</td>\n",
              "      <td>1</td>\n",
              "      <td>1</td>\n",
              "      <td>1</td>\n",
              "      <td>0</td>\n",
              "      <td>3</td>\n",
              "      <td>15</td>\n",
              "      <td>0</td>\n",
              "      <td>0</td>\n",
              "    </tr>\n",
              "    <tr>\n",
              "      <th>GABBARD</th>\n",
              "      <td>1</td>\n",
              "      <td>0</td>\n",
              "      <td>0</td>\n",
              "      <td>1</td>\n",
              "      <td>0</td>\n",
              "      <td>1</td>\n",
              "      <td>3</td>\n",
              "      <td>0</td>\n",
              "      <td>0</td>\n",
              "      <td>0</td>\n",
              "      <td>10</td>\n",
              "      <td>0</td>\n",
              "    </tr>\n",
              "    <tr>\n",
              "      <th>STEYER</th>\n",
              "      <td>0</td>\n",
              "      <td>0</td>\n",
              "      <td>0</td>\n",
              "      <td>3</td>\n",
              "      <td>1</td>\n",
              "      <td>2</td>\n",
              "      <td>0</td>\n",
              "      <td>0</td>\n",
              "      <td>1</td>\n",
              "      <td>0</td>\n",
              "      <td>0</td>\n",
              "      <td>12</td>\n",
              "    </tr>\n",
              "  </tbody>\n",
              "</table>\n",
              "</div>"
            ],
            "text/plain": [
              "           HARRIS  OROURKE  BUTTIGIEG  ...  CASTRO  GABBARD  STEYER\n",
              "HARRIS         33        0          0  ...       0        0       0\n",
              "OROURKE         0       23          3  ...       0        0       0\n",
              "BUTTIGIEG       1        0         52  ...       0        0       0\n",
              "SANDERS         0        0          0  ...       0        0       0\n",
              "BIDEN           1        0          1  ...       0        0       0\n",
              "WARREN          0        0          0  ...       0        0       0\n",
              "BOOKER          0        0          2  ...       0        0       0\n",
              "YANG            1        0          1  ...       0        0       0\n",
              "KLOBUCHAR       1        0          2  ...       0        0       0\n",
              "CASTRO          0        0          1  ...      15        0       0\n",
              "GABBARD         1        0          0  ...       0       10       0\n",
              "STEYER          0        0          0  ...       0        0      12\n",
              "\n",
              "[12 rows x 12 columns]"
            ]
          },
          "metadata": {
            "tags": []
          },
          "execution_count": 35
        }
      ]
    },
    {
      "cell_type": "markdown",
      "metadata": {
        "id": "GIkBbHo09N14",
        "colab_type": "text"
      },
      "source": [
        "As is made obvious from the confusion matrix, there are more misclassified data points than the previous model. From observing the accuracy and confusion matrix, we know that the candidate - YANG has the most misclassified quotes with accuracy of 0.375. Thus, here the performance of the model for this class is worse than the previous model. Even for other classes the accuracy is lower with highest accuracy for BIDEN, WARREN, SANDERS with good f1 scores too."
      ]
    },
    {
      "cell_type": "markdown",
      "metadata": {
        "id": "GZha1-hdSzln",
        "colab_type": "text"
      },
      "source": [
        "#### 10. Pick your own model\n",
        "\n",
        "---"
      ]
    },
    {
      "cell_type": "markdown",
      "metadata": {
        "id": "4sqq6JHNREL6",
        "colab_type": "text"
      },
      "source": [
        "The model of my choice is Gradient Boosted Decision Tree which I have implemented using python's XGBoost library. I have read a lot about it and have seen it becoming a winner algo in several Kaggle competition. To tune the parameters I used a grid search to tune the depth, estimators."
      ]
    },
    {
      "cell_type": "code",
      "metadata": {
        "id": "3AuVZO2kuOWo",
        "colab_type": "code",
        "colab": {}
      },
      "source": [
        "m_xgb = xgb.XGBClassifier(objective='binary:logistic',booster = \"gbtree\", eval_metric='auc')\n",
        "clf_xgb = model_selection.GridSearchCV(m_xgb,{'max_depth': [4,6, 8],'n_estimators': [50,100,200]})"
      ],
      "execution_count": null,
      "outputs": []
    },
    {
      "cell_type": "code",
      "metadata": {
        "id": "FBAB-SWnx6n5",
        "colab_type": "code",
        "colab": {
          "base_uri": "https://localhost:8080/",
          "height": 32
        },
        "outputId": "88058206-98ae-4a51-fe4a-377ea1b8eb66"
      },
      "source": [
        "clf_xgb.fit(train_features,train_y)\n",
        "print(\"The best score\", clf_xgb.best_score_)"
      ],
      "execution_count": null,
      "outputs": [
        {
          "output_type": "stream",
          "text": [
            "The best score 0.38061096136567835\n"
          ],
          "name": "stdout"
        }
      ]
    },
    {
      "cell_type": "code",
      "metadata": {
        "id": "AMBozhTgy-bN",
        "colab_type": "code",
        "colab": {
          "base_uri": "https://localhost:8080/",
          "height": 32
        },
        "outputId": "c6039d0f-4eba-4542-d5ad-62908f93e212"
      },
      "source": [
        "print(\"The training accuracy score is\", clf_xgb.score(train_features, train_y)*100, \"%\")"
      ],
      "execution_count": null,
      "outputs": [
        {
          "output_type": "stream",
          "text": [
            "The training accuracy score is 100.0 %\n"
          ],
          "name": "stdout"
        }
      ]
    },
    {
      "cell_type": "code",
      "metadata": {
        "id": "-c-O1_7j_GeB",
        "colab_type": "code",
        "colab": {
          "base_uri": "https://localhost:8080/",
          "height": 1000
        },
        "outputId": "37934320-f517-4289-829d-e7bf9f4b9a5d"
      },
      "source": [
        "xg_report = classification_report(train_y, clf_xgb.predict(train_features))\n",
        "\n",
        "matrix = confusion_matrix(train_y, clf_xgb.predict(train_features), labels = class_names)\n",
        "xg_acc = matrix.diagonal()/matrix.sum(axis=1 )\n",
        "c3_df = pd.DataFrame({'accuracy': xg_acc}, index=class_names)\n",
        "cm3_df = pd.DataFrame(matrix, index = class_names, columns = class_names)\n",
        "\n",
        "print(xg_report)\n",
        "print(\"=========================================================\\n\\n\\nThe accuracy for each class is\\n\\n\\n\", c3_df)\n",
        "print(\"=========================================================\\n\\n\\nConfusion Matrix\\n\\n\")\n",
        "cm3_df.head(12)"
      ],
      "execution_count": null,
      "outputs": [
        {
          "output_type": "stream",
          "text": [
            "              precision    recall  f1-score   support\n",
            "\n",
            "       BIDEN       1.00      1.00      1.00        60\n",
            "      BOOKER       1.00      1.00      1.00        50\n",
            "   BUTTIGIEG       1.00      1.00      1.00        60\n",
            "      CASTRO       1.00      1.00      1.00        23\n",
            "     GABBARD       1.00      1.00      1.00        16\n",
            "      HARRIS       1.00      1.00      1.00        40\n",
            "   KLOBUCHAR       1.00      1.00      1.00        55\n",
            "     OROURKE       1.00      1.00      1.00        33\n",
            "     SANDERS       1.00      1.00      1.00        60\n",
            "      STEYER       1.00      1.00      1.00        19\n",
            "      WARREN       1.00      1.00      1.00        80\n",
            "        YANG       1.00      1.00      1.00        32\n",
            "\n",
            "    accuracy                           1.00       528\n",
            "   macro avg       1.00      1.00      1.00       528\n",
            "weighted avg       1.00      1.00      1.00       528\n",
            "\n",
            "=========================================================\n",
            "\n",
            "\n",
            "The accuracy for each class is\n",
            "\n",
            "\n",
            "            accuracy\n",
            "HARRIS          1.0\n",
            "OROURKE         1.0\n",
            "BUTTIGIEG       1.0\n",
            "SANDERS         1.0\n",
            "BIDEN           1.0\n",
            "WARREN          1.0\n",
            "BOOKER          1.0\n",
            "YANG            1.0\n",
            "KLOBUCHAR       1.0\n",
            "CASTRO          1.0\n",
            "GABBARD         1.0\n",
            "STEYER          1.0\n",
            "=========================================================\n",
            "\n",
            "\n",
            "Confusion Matrix\n",
            "\n",
            "\n"
          ],
          "name": "stdout"
        },
        {
          "output_type": "execute_result",
          "data": {
            "text/html": [
              "<div>\n",
              "<style scoped>\n",
              "    .dataframe tbody tr th:only-of-type {\n",
              "        vertical-align: middle;\n",
              "    }\n",
              "\n",
              "    .dataframe tbody tr th {\n",
              "        vertical-align: top;\n",
              "    }\n",
              "\n",
              "    .dataframe thead th {\n",
              "        text-align: right;\n",
              "    }\n",
              "</style>\n",
              "<table border=\"1\" class=\"dataframe\">\n",
              "  <thead>\n",
              "    <tr style=\"text-align: right;\">\n",
              "      <th></th>\n",
              "      <th>HARRIS</th>\n",
              "      <th>OROURKE</th>\n",
              "      <th>BUTTIGIEG</th>\n",
              "      <th>SANDERS</th>\n",
              "      <th>BIDEN</th>\n",
              "      <th>WARREN</th>\n",
              "      <th>BOOKER</th>\n",
              "      <th>YANG</th>\n",
              "      <th>KLOBUCHAR</th>\n",
              "      <th>CASTRO</th>\n",
              "      <th>GABBARD</th>\n",
              "      <th>STEYER</th>\n",
              "    </tr>\n",
              "  </thead>\n",
              "  <tbody>\n",
              "    <tr>\n",
              "      <th>HARRIS</th>\n",
              "      <td>40</td>\n",
              "      <td>0</td>\n",
              "      <td>0</td>\n",
              "      <td>0</td>\n",
              "      <td>0</td>\n",
              "      <td>0</td>\n",
              "      <td>0</td>\n",
              "      <td>0</td>\n",
              "      <td>0</td>\n",
              "      <td>0</td>\n",
              "      <td>0</td>\n",
              "      <td>0</td>\n",
              "    </tr>\n",
              "    <tr>\n",
              "      <th>OROURKE</th>\n",
              "      <td>0</td>\n",
              "      <td>33</td>\n",
              "      <td>0</td>\n",
              "      <td>0</td>\n",
              "      <td>0</td>\n",
              "      <td>0</td>\n",
              "      <td>0</td>\n",
              "      <td>0</td>\n",
              "      <td>0</td>\n",
              "      <td>0</td>\n",
              "      <td>0</td>\n",
              "      <td>0</td>\n",
              "    </tr>\n",
              "    <tr>\n",
              "      <th>BUTTIGIEG</th>\n",
              "      <td>0</td>\n",
              "      <td>0</td>\n",
              "      <td>60</td>\n",
              "      <td>0</td>\n",
              "      <td>0</td>\n",
              "      <td>0</td>\n",
              "      <td>0</td>\n",
              "      <td>0</td>\n",
              "      <td>0</td>\n",
              "      <td>0</td>\n",
              "      <td>0</td>\n",
              "      <td>0</td>\n",
              "    </tr>\n",
              "    <tr>\n",
              "      <th>SANDERS</th>\n",
              "      <td>0</td>\n",
              "      <td>0</td>\n",
              "      <td>0</td>\n",
              "      <td>60</td>\n",
              "      <td>0</td>\n",
              "      <td>0</td>\n",
              "      <td>0</td>\n",
              "      <td>0</td>\n",
              "      <td>0</td>\n",
              "      <td>0</td>\n",
              "      <td>0</td>\n",
              "      <td>0</td>\n",
              "    </tr>\n",
              "    <tr>\n",
              "      <th>BIDEN</th>\n",
              "      <td>0</td>\n",
              "      <td>0</td>\n",
              "      <td>0</td>\n",
              "      <td>0</td>\n",
              "      <td>60</td>\n",
              "      <td>0</td>\n",
              "      <td>0</td>\n",
              "      <td>0</td>\n",
              "      <td>0</td>\n",
              "      <td>0</td>\n",
              "      <td>0</td>\n",
              "      <td>0</td>\n",
              "    </tr>\n",
              "    <tr>\n",
              "      <th>WARREN</th>\n",
              "      <td>0</td>\n",
              "      <td>0</td>\n",
              "      <td>0</td>\n",
              "      <td>0</td>\n",
              "      <td>0</td>\n",
              "      <td>80</td>\n",
              "      <td>0</td>\n",
              "      <td>0</td>\n",
              "      <td>0</td>\n",
              "      <td>0</td>\n",
              "      <td>0</td>\n",
              "      <td>0</td>\n",
              "    </tr>\n",
              "    <tr>\n",
              "      <th>BOOKER</th>\n",
              "      <td>0</td>\n",
              "      <td>0</td>\n",
              "      <td>0</td>\n",
              "      <td>0</td>\n",
              "      <td>0</td>\n",
              "      <td>0</td>\n",
              "      <td>50</td>\n",
              "      <td>0</td>\n",
              "      <td>0</td>\n",
              "      <td>0</td>\n",
              "      <td>0</td>\n",
              "      <td>0</td>\n",
              "    </tr>\n",
              "    <tr>\n",
              "      <th>YANG</th>\n",
              "      <td>0</td>\n",
              "      <td>0</td>\n",
              "      <td>0</td>\n",
              "      <td>0</td>\n",
              "      <td>0</td>\n",
              "      <td>0</td>\n",
              "      <td>0</td>\n",
              "      <td>32</td>\n",
              "      <td>0</td>\n",
              "      <td>0</td>\n",
              "      <td>0</td>\n",
              "      <td>0</td>\n",
              "    </tr>\n",
              "    <tr>\n",
              "      <th>KLOBUCHAR</th>\n",
              "      <td>0</td>\n",
              "      <td>0</td>\n",
              "      <td>0</td>\n",
              "      <td>0</td>\n",
              "      <td>0</td>\n",
              "      <td>0</td>\n",
              "      <td>0</td>\n",
              "      <td>0</td>\n",
              "      <td>55</td>\n",
              "      <td>0</td>\n",
              "      <td>0</td>\n",
              "      <td>0</td>\n",
              "    </tr>\n",
              "    <tr>\n",
              "      <th>CASTRO</th>\n",
              "      <td>0</td>\n",
              "      <td>0</td>\n",
              "      <td>0</td>\n",
              "      <td>0</td>\n",
              "      <td>0</td>\n",
              "      <td>0</td>\n",
              "      <td>0</td>\n",
              "      <td>0</td>\n",
              "      <td>0</td>\n",
              "      <td>23</td>\n",
              "      <td>0</td>\n",
              "      <td>0</td>\n",
              "    </tr>\n",
              "    <tr>\n",
              "      <th>GABBARD</th>\n",
              "      <td>0</td>\n",
              "      <td>0</td>\n",
              "      <td>0</td>\n",
              "      <td>0</td>\n",
              "      <td>0</td>\n",
              "      <td>0</td>\n",
              "      <td>0</td>\n",
              "      <td>0</td>\n",
              "      <td>0</td>\n",
              "      <td>0</td>\n",
              "      <td>16</td>\n",
              "      <td>0</td>\n",
              "    </tr>\n",
              "    <tr>\n",
              "      <th>STEYER</th>\n",
              "      <td>0</td>\n",
              "      <td>0</td>\n",
              "      <td>0</td>\n",
              "      <td>0</td>\n",
              "      <td>0</td>\n",
              "      <td>0</td>\n",
              "      <td>0</td>\n",
              "      <td>0</td>\n",
              "      <td>0</td>\n",
              "      <td>0</td>\n",
              "      <td>0</td>\n",
              "      <td>19</td>\n",
              "    </tr>\n",
              "  </tbody>\n",
              "</table>\n",
              "</div>"
            ],
            "text/plain": [
              "           HARRIS  OROURKE  BUTTIGIEG  ...  CASTRO  GABBARD  STEYER\n",
              "HARRIS         40        0          0  ...       0        0       0\n",
              "OROURKE         0       33          0  ...       0        0       0\n",
              "BUTTIGIEG       0        0         60  ...       0        0       0\n",
              "SANDERS         0        0          0  ...       0        0       0\n",
              "BIDEN           0        0          0  ...       0        0       0\n",
              "WARREN          0        0          0  ...       0        0       0\n",
              "BOOKER          0        0          0  ...       0        0       0\n",
              "YANG            0        0          0  ...       0        0       0\n",
              "KLOBUCHAR       0        0          0  ...       0        0       0\n",
              "CASTRO          0        0          0  ...      23        0       0\n",
              "GABBARD         0        0          0  ...       0       16       0\n",
              "STEYER          0        0          0  ...       0        0      19\n",
              "\n",
              "[12 rows x 12 columns]"
            ]
          },
          "metadata": {
            "tags": []
          },
          "execution_count": 41
        }
      ]
    },
    {
      "cell_type": "markdown",
      "metadata": {
        "id": "hCITmIeJ_MjG",
        "colab_type": "text"
      },
      "source": [
        "As is made obvious from the confusion matrix, there are no misclassified data points. This might be due to overfitting. "
      ]
    },
    {
      "cell_type": "markdown",
      "metadata": {
        "id": "GQ7bwHr9S0Ar",
        "colab_type": "text"
      },
      "source": [
        "#### 11. Compare the performance of the three classifiers you built\n",
        "\n",
        "---"
      ]
    },
    {
      "cell_type": "markdown",
      "metadata": {
        "id": "_qrIYkm1_UPG",
        "colab_type": "text"
      },
      "source": [
        "In my opinion, the best classifier in terms of accuracy, precision, and time is regularized logistic regression. While XGBoost has a perfect score on all evaluation metric, I'm worried it might be overfitting to the training data. In addition to this, it takes 2.5 - 3 mins to train. Thus, if I were to rank the performance only on the quantitative values while ignoring other potential issues, the ranking is - XGBoost, Reguliarized Logistic Regression, Random Forest.\n",
        "\n",
        "However, as mentioned before I'm a bit hesistant about the perfect score of XGBoost as this might be potentially due to overfitting resulting in poor performance on the test data. Additionally, it takes 2.5- 3 min to train as compared to a few seconds taken by the other two models. Thus, the best classifier ranked then is Regularized Logistic Regression, XGBoost, Random Forest. Random Forest gives poorer metric score and it is acceptable to spend more time on XGBoost to get better result."
      ]
    },
    {
      "cell_type": "code",
      "metadata": {
        "id": "NWiKVmTZA7Ir",
        "colab_type": "code",
        "colab": {
          "base_uri": "https://localhost:8080/",
          "height": 331
        },
        "outputId": "ad6bb687-287c-404d-fa59-fa0c05fa0adf"
      },
      "source": [
        "#create graph comparing accuracy and f1 score accross different class.\n",
        "x = class_names\n",
        "plt.plot(c3_df.index, c3_df.accuracy)\n",
        "plt.plot(c1_df.index, c1_df.accuracy)\n",
        "plt.plot(c2_df.index, c2_df.accuracy)\n",
        "\n",
        "plt.title(\"Class-wise Accuracy\")\n",
        "plt.legend(['XGBoost', 'Logistic', 'Random Forest'], loc='lower left')\n",
        "plt.xticks(rotation=90)\n",
        "plt.show()\n"
      ],
      "execution_count": null,
      "outputs": [
        {
          "output_type": "display_data",
          "data": {
            "image/png": "[encoded data removed]",
            "text/plain": [
              "<Figure size 432x288 with 1 Axes>"
            ]
          },
          "metadata": {
            "tags": [],
            "needs_background": "light"
          }
        }
      ]
    },
    {
      "cell_type": "markdown",
      "metadata": {
        "id": "0P_DBlB1p8eH",
        "colab_type": "text"
      },
      "source": [
        "It is obvious from the graph that while logistic regression approaches the apparent state of the art / overfitted solution of XGBoost for some classes, it also performs significantly well in those classes where random forest has almost 50% accuracy. This shows that it is doing a good job at learning features and fitting to the training data while ignoring noises and thus, should retain this while dealing with unseen test dataset."
      ]
    },
    {
      "cell_type": "markdown",
      "metadata": {
        "id": "Wk8U-XeuS0ja",
        "colab_type": "text"
      },
      "source": [
        "#### 12. Generate labels\n",
        "\n",
        "---"
      ]
    },
    {
      "cell_type": "markdown",
      "metadata": {
        "id": "ka6djlOfRJj-",
        "colab_type": "text"
      },
      "source": [
        "Here, I'm using the regularized logistic regression model to generate labels\n"
      ]
    },
    {
      "cell_type": "code",
      "metadata": {
        "id": "xcSPvo_qBQWk",
        "colab_type": "code",
        "colab": {
          "base_uri": "https://localhost:8080/",
          "height": 296
        },
        "outputId": "026ae478-6a2d-4a04-e793-eed6f1cf8d8f"
      },
      "source": [
        "#generate labels\n",
        "part_2_labels = clf_rl.predict(test_features)\n",
        "print(part_2_labels)"
      ],
      "execution_count": null,
      "outputs": [
        {
          "output_type": "stream",
          "text": [
            "['BUTTIGIEG' 'YANG' 'STEYER' 'BUTTIGIEG' 'GABBARD' 'BUTTIGIEG' 'WARREN'\n",
            " 'SANDERS' 'GABBARD' 'BUTTIGIEG' 'BOOKER' 'BUTTIGIEG' 'GABBARD'\n",
            " 'BUTTIGIEG' 'KLOBUCHAR' 'WARREN' 'YANG' 'SANDERS' 'BUTTIGIEG' 'YANG'\n",
            " 'WARREN' 'BOOKER' 'BUTTIGIEG' 'BIDEN' 'HARRIS' 'SANDERS' 'OROURKE'\n",
            " 'HARRIS' 'YANG' 'GABBARD' 'HARRIS' 'STEYER' 'GABBARD' 'SANDERS' 'WARREN'\n",
            " 'BUTTIGIEG' 'WARREN' 'OROURKE' 'BOOKER' 'WARREN' 'WARREN' 'YANG'\n",
            " 'KLOBUCHAR' 'BUTTIGIEG' 'BOOKER' 'HARRIS' 'BIDEN' 'SANDERS' 'WARREN'\n",
            " 'KLOBUCHAR' 'BUTTIGIEG' 'YANG' 'KLOBUCHAR' 'BIDEN' 'KLOBUCHAR'\n",
            " 'KLOBUCHAR' 'KLOBUCHAR' 'SANDERS' 'WARREN' 'CASTRO' 'WARREN' 'KLOBUCHAR'\n",
            " 'BUTTIGIEG' 'OROURKE' 'WARREN' 'BUTTIGIEG' 'KLOBUCHAR' 'OROURKE'\n",
            " 'BUTTIGIEG' 'WARREN' 'HARRIS' 'OROURKE' 'BUTTIGIEG' 'BIDEN' 'SANDERS'\n",
            " 'BUTTIGIEG' 'WARREN' 'SANDERS' 'YANG' 'BOOKER' 'WARREN' 'BUTTIGIEG'\n",
            " 'SANDERS' 'BIDEN' 'SANDERS' 'STEYER' 'KLOBUCHAR' 'OROURKE' 'BOOKER'\n",
            " 'KLOBUCHAR' 'BUTTIGIEG' 'BIDEN' 'BIDEN' 'BOOKER' 'BUTTIGIEG' 'WARREN'\n",
            " 'YANG' 'WARREN' 'WARREN' 'BOOKER' 'OROURKE' 'WARREN' 'BUTTIGIEG'\n",
            " 'KLOBUCHAR' 'WARREN' 'GABBARD' 'YANG' 'SANDERS' 'CASTRO' 'BUTTIGIEG'\n",
            " 'WARREN']\n"
          ],
          "name": "stdout"
        }
      ]
    },
    {
      "cell_type": "markdown",
      "metadata": {
        "id": "BzPfFAUaSU9z",
        "colab_type": "text"
      },
      "source": [
        "---\n",
        "# Semi-Supervised Learning\n",
        "\n",
        "---\n",
        "\n"
      ]
    },
    {
      "cell_type": "markdown",
      "metadata": {
        "id": "iLOKl1PoS240",
        "colab_type": "text"
      },
      "source": [
        "#### 13. Pick Model\n",
        "\n",
        "---"
      ]
    },
    {
      "cell_type": "markdown",
      "metadata": {
        "id": "rFz6rQzXSg6u",
        "colab_type": "text"
      },
      "source": [
        "The model of my choice is the regularized logistic regression model as it performed exceptionally well in terms of accuracy, precision, recall, f1-score and time. "
      ]
    },
    {
      "cell_type": "code",
      "metadata": {
        "id": "XPRkUy0sykul",
        "colab_type": "code",
        "colab": {}
      },
      "source": [
        "clf_semi = sklearn.base.clone(clf_rl, safe=True)"
      ],
      "execution_count": null,
      "outputs": []
    },
    {
      "cell_type": "markdown",
      "metadata": {
        "id": "h_KUPfHFS3SP",
        "colab_type": "text"
      },
      "source": [
        "#### 14. First iteration\n",
        "\n",
        "---"
      ]
    },
    {
      "cell_type": "code",
      "metadata": {
        "id": "FgMZqEN7M361",
        "colab_type": "code",
        "colab": {
          "base_uri": "https://localhost:8080/",
          "height": 98
        },
        "outputId": "7fbef1b9-a77a-4fd6-e30b-66056b9c877f"
      },
      "source": [
        "#fit to un edited train data \n",
        "clf_semi.fit(train_features,train_y)"
      ],
      "execution_count": null,
      "outputs": [
        {
          "output_type": "execute_result",
          "data": {
            "text/plain": [
              "LogisticRegression(C=1.0, class_weight=None, dual=False, fit_intercept=True,\n",
              "                   intercept_scaling=1, l1_ratio=None, max_iter=100,\n",
              "                   multi_class='auto', n_jobs=None, penalty='l1',\n",
              "                   random_state=None, solver='liblinear', tol=0.0001, verbose=0,\n",
              "                   warm_start=False)"
            ]
          },
          "metadata": {
            "tags": []
          },
          "execution_count": 45
        }
      ]
    },
    {
      "cell_type": "code",
      "metadata": {
        "id": "vKWaCpCqGazF",
        "colab_type": "code",
        "colab": {
          "base_uri": "https://localhost:8080/",
          "height": 32
        },
        "outputId": "27a60750-a2c1-49fa-c075-7810fa540013"
      },
      "source": [
        "print(\"The accuracy of the model before iteration on the original train data is\" ,clf_semi.score(train_features,train_y) * 100, \"%\" )"
      ],
      "execution_count": null,
      "outputs": [
        {
          "output_type": "stream",
          "text": [
            "The accuracy of the model before iteration on the original train data is 96.96969696969697 %\n"
          ],
          "name": "stdout"
        }
      ]
    },
    {
      "cell_type": "code",
      "metadata": {
        "id": "faJFMDqkipW5",
        "colab_type": "code",
        "colab": {
          "base_uri": "https://localhost:8080/",
          "height": 201
        },
        "outputId": "cdfca9f1-889d-44a5-fd36-268fd4db96ba"
      },
      "source": [
        "#create duplicates of train and test data frame to edit \n",
        "dup_train = train_df\n",
        "#dup_train.tail(20)\n",
        "dup_test = test_df    \n",
        "dup_test.head()"
      ],
      "execution_count": null,
      "outputs": [
        {
          "output_type": "execute_result",
          "data": {
            "text/html": [
              "<div>\n",
              "<style scoped>\n",
              "    .dataframe tbody tr th:only-of-type {\n",
              "        vertical-align: middle;\n",
              "    }\n",
              "\n",
              "    .dataframe tbody tr th {\n",
              "        vertical-align: top;\n",
              "    }\n",
              "\n",
              "    .dataframe thead th {\n",
              "        text-align: right;\n",
              "    }\n",
              "</style>\n",
              "<table border=\"1\" class=\"dataframe\">\n",
              "  <thead>\n",
              "    <tr style=\"text-align: right;\">\n",
              "      <th></th>\n",
              "      <th>file_name</th>\n",
              "      <th>Quotes</th>\n",
              "      <th>char_count</th>\n",
              "      <th>word_count</th>\n",
              "      <th>word_density</th>\n",
              "      <th>punctuation_count</th>\n",
              "      <th>title_word_count</th>\n",
              "      <th>upper_case_word_count</th>\n",
              "    </tr>\n",
              "  </thead>\n",
              "  <tbody>\n",
              "    <tr>\n",
              "      <th>0</th>\n",
              "      <td>test_78.txt</td>\n",
              "      <td>Yeah, I think that we’re on the right track in...</td>\n",
              "      <td>7</td>\n",
              "      <td>7</td>\n",
              "      <td>9</td>\n",
              "      <td>7</td>\n",
              "      <td>3</td>\n",
              "      <td>3</td>\n",
              "    </tr>\n",
              "    <tr>\n",
              "      <th>1</th>\n",
              "      <td>test_64.txt</td>\n",
              "      <td>There are only two countries in the world that...</td>\n",
              "      <td>14</td>\n",
              "      <td>14</td>\n",
              "      <td>8</td>\n",
              "      <td>12</td>\n",
              "      <td>7</td>\n",
              "      <td>2</td>\n",
              "    </tr>\n",
              "    <tr>\n",
              "      <th>2</th>\n",
              "      <td>test_96.txt</td>\n",
              "      <td>Sure, there’s one point we’re really missing o...</td>\n",
              "      <td>16</td>\n",
              "      <td>15</td>\n",
              "      <td>9</td>\n",
              "      <td>11</td>\n",
              "      <td>14</td>\n",
              "      <td>0</td>\n",
              "    </tr>\n",
              "    <tr>\n",
              "      <th>3</th>\n",
              "      <td>test_94.txt</td>\n",
              "      <td>I’m not wedded to a particular solution, but I...</td>\n",
              "      <td>0</td>\n",
              "      <td>0</td>\n",
              "      <td>9</td>\n",
              "      <td>0</td>\n",
              "      <td>1</td>\n",
              "      <td>1</td>\n",
              "    </tr>\n",
              "    <tr>\n",
              "      <th>4</th>\n",
              "      <td>test_3.txt</td>\n",
              "      <td>There’s a larger battle going on on the planet...</td>\n",
              "      <td>5</td>\n",
              "      <td>5</td>\n",
              "      <td>11</td>\n",
              "      <td>4</td>\n",
              "      <td>4</td>\n",
              "      <td>1</td>\n",
              "    </tr>\n",
              "  </tbody>\n",
              "</table>\n",
              "</div>"
            ],
            "text/plain": [
              "     file_name  ... upper_case_word_count\n",
              "0  test_78.txt  ...                     3\n",
              "1  test_64.txt  ...                     2\n",
              "2  test_96.txt  ...                     0\n",
              "3  test_94.txt  ...                     1\n",
              "4   test_3.txt  ...                     1\n",
              "\n",
              "[5 rows x 8 columns]"
            ]
          },
          "metadata": {
            "tags": []
          },
          "execution_count": 47
        }
      ]
    },
    {
      "cell_type": "markdown",
      "metadata": {
        "id": "Jc5PGbY8DPDY",
        "colab_type": "text"
      },
      "source": [
        "Creating function to get top 11 instances of the predicted labels and to move row from test to train data"
      ]
    },
    {
      "cell_type": "code",
      "metadata": {
        "id": "lb-bDeyiUuwr",
        "colab_type": "code",
        "colab": {}
      },
      "source": [
        "#get top instances \n",
        "def getTopInstances(test, testFeature, total):\n",
        "  prob_predicted = {}\n",
        "  k = 0\n",
        "  for i, row in test.iterrows():\n",
        "    prob_dict = dict(zip(clf_semi.classes_, clf_semi.predict_proba(testFeature)[k]))\n",
        "    results = list(map(lambda x: (x[0], x[1]), sorted(zip(clf_semi.classes_, clf_semi.predict_proba(testFeature)[k]), key=lambda x: x[1], reverse=True)))\n",
        "    prob_predicted[i] = results[0]\n",
        "    k += 1\n",
        "  print(\"The class and their associated probability\", prob_predicted)\n",
        "  sort_prob = sorted(prob_predicted.keys(), key=lambda x: prob_predicted[x][1], reverse=True)[:total]\n",
        "  return(sort_prob, prob_predicted)"
      ],
      "execution_count": null,
      "outputs": []
    },
    {
      "cell_type": "code",
      "metadata": {
        "id": "18LvbFTaX94O",
        "colab_type": "code",
        "colab": {}
      },
      "source": [
        "#get top 10 index and classes\n",
        "def addTopTest(test, train, prob_class, prob_pred):\n",
        "  #find label class and index to add\n",
        "  k = 1\n",
        "  l = 11\n",
        "  for i in prob_class:\n",
        "    curr_row = []\n",
        "    #remove from the test features\n",
        "    curr_s= test.loc[[i]]\n",
        "    #drop these rows from the data frame\n",
        "    test = test.drop([i])\n",
        "    clean = cleanQuotes(curr_s.Quotes.item())\n",
        "    final_clean = lemmatizeQuotes(clean)\n",
        "    curr_row.append([prob_pred[i][0], curr_s.Quotes.item(), clean, final_clean, curr_s.char_count.item(), curr_s.word_count.item(), curr_s.word_density.item(),\\\n",
        "                     curr_s.punctuation_count.item(), curr_s.title_word_count.item(), curr_s.upper_case_word_count.item()])\n",
        "    #add curr_row to training df\n",
        "    train = train.append(pd.DataFrame(curr_row, columns = train.columns))\n",
        "    print(\"Adding row \",i, \" ----- \", k, \"/\", l)\n",
        "    k += 1\n",
        "    #print(\"Adding row\\n\",curr_row)\n",
        "    #print(\"\\nShape after adding row\", train.shape)\n",
        "  return(train, test)\n"
      ],
      "execution_count": null,
      "outputs": []
    },
    {
      "cell_type": "code",
      "metadata": {
        "id": "clQWzP6yP0u2",
        "colab_type": "code",
        "colab": {
          "base_uri": "https://localhost:8080/",
          "height": 52
        },
        "outputId": "f27d4ad9-e362-492b-efeb-bce45a0c5f1c"
      },
      "source": [
        "pc, pp = getTopInstances(dup_test, test_features, 11)"
      ],
      "execution_count": null,
      "outputs": [
        {
          "output_type": "stream",
          "text": [
            "The class and their associated probability {0: ('BUTTIGIEG', 0.7544077826360094), 1: ('YANG', 0.46918590737837257), 2: ('STEYER', 0.37798623173465984), 3: ('BUTTIGIEG', 0.287684393177938), 4: ('GABBARD', 0.31403338198006103), 5: ('BUTTIGIEG', 0.5138170881762653), 6: ('WARREN', 0.3976050715524329), 7: ('SANDERS', 0.43015365352190665), 8: ('GABBARD', 0.5181363258244225), 9: ('BUTTIGIEG', 0.40003449674772407), 10: ('BOOKER', 0.7347451102795245), 11: ('BUTTIGIEG', 0.7684996809736496), 12: ('GABBARD', 0.6342615284364211), 13: ('BUTTIGIEG', 0.8818786647200211), 14: ('KLOBUCHAR', 0.5122780545439825), 15: ('WARREN', 0.43394211598820437), 16: ('YANG', 0.7740093314386182), 17: ('SANDERS', 0.32054577481059754), 18: ('BUTTIGIEG', 0.3351205071466052), 19: ('YANG', 0.25276003153668297), 20: ('WARREN', 0.7311497270790818), 21: ('BOOKER', 0.40578256573548105), 22: ('BUTTIGIEG', 0.39972289314746695), 23: ('BIDEN', 0.6736513068972034), 24: ('HARRIS', 0.7034310204650062), 25: ('SANDERS', 0.4833090076453091), 26: ('OROURKE', 0.44732783487521594), 27: ('HARRIS', 0.34368183677905284), 28: ('YANG', 0.2966142229455839), 29: ('GABBARD', 0.22924204977156465), 30: ('HARRIS', 0.7785242966552427), 31: ('STEYER', 0.40824896417578693), 32: ('GABBARD', 0.6422311544619685), 33: ('SANDERS', 0.5190237838956004), 34: ('WARREN', 0.3709495555242734), 35: ('BUTTIGIEG', 0.3045555247335106), 36: ('WARREN', 0.4312205960496748), 37: ('OROURKE', 0.6730307693590359), 38: ('BOOKER', 0.9185121174642663), 39: ('WARREN', 0.49604467536686575), 40: ('WARREN', 0.3554347425160319), 41: ('YANG', 0.32607023744590385), 42: ('KLOBUCHAR', 0.5304255449490591), 43: ('BUTTIGIEG', 0.3196387731848986), 44: ('BOOKER', 0.7804698295614751), 45: ('HARRIS', 0.6598069530551387), 46: ('BIDEN', 0.4986471053438005), 47: ('SANDERS', 0.5858036395665187), 48: ('WARREN', 0.4164372911587613), 49: ('KLOBUCHAR', 0.2756180716620107), 50: ('BUTTIGIEG', 0.4639464672529777), 51: ('YANG', 0.21612265987496282), 52: ('KLOBUCHAR', 0.8007076177628042), 53: ('BIDEN', 0.4354956301626594), 54: ('KLOBUCHAR', 0.4391515730603531), 55: ('KLOBUCHAR', 0.6184646448665704), 56: ('KLOBUCHAR', 0.6256034760329394), 57: ('SANDERS', 0.6949920450206749), 58: ('WARREN', 0.6549770610066503), 59: ('CASTRO', 0.3185064313779743), 60: ('WARREN', 0.3237782761377741), 61: ('KLOBUCHAR', 0.23627082540600802), 62: ('BUTTIGIEG', 0.7091579761958319), 63: ('OROURKE', 0.5566400538294911), 64: ('WARREN', 0.31942667316386986), 65: ('BUTTIGIEG', 0.23536288420188828), 66: ('KLOBUCHAR', 0.46152879268748087), 67: ('OROURKE', 0.4479722433088861), 68: ('BUTTIGIEG', 0.33163154993733707), 69: ('WARREN', 0.21571430916024628), 70: ('HARRIS', 0.5794733801989699), 71: ('OROURKE', 0.5979416856919577), 72: ('BUTTIGIEG', 0.6139569403406169), 73: ('BIDEN', 0.30349453921849157), 74: ('SANDERS', 0.5980853875507027), 75: ('BUTTIGIEG', 0.42171305409837145), 76: ('WARREN', 0.31534485439052906), 77: ('SANDERS', 0.2561013663097867), 78: ('YANG', 0.4199831005031079), 79: ('BOOKER', 0.6778780852870924), 80: ('WARREN', 0.3492402592679729), 81: ('BUTTIGIEG', 0.3011604146411137), 82: ('SANDERS', 0.31784433942210055), 83: ('BIDEN', 0.49993146763097007), 84: ('SANDERS', 0.43561127238614467), 85: ('STEYER', 0.3543590515882439), 86: ('KLOBUCHAR', 0.4868666636301547), 87: ('OROURKE', 0.5508525013720047), 88: ('BOOKER', 0.2926398893014137), 89: ('KLOBUCHAR', 0.5987437845386877), 90: ('BUTTIGIEG', 0.589564854335018), 91: ('BIDEN', 0.882537858777352), 92: ('BIDEN', 0.9130616561771373), 93: ('BOOKER', 0.31542676230169436), 94: ('BUTTIGIEG', 0.5994495221875374), 95: ('WARREN', 0.5488395834590035), 96: ('YANG', 0.47709318651443927), 97: ('WARREN', 0.20728517485935444), 98: ('WARREN', 0.36605541472844405), 99: ('BOOKER', 0.33506821623815153), 100: ('OROURKE', 0.8356941651688361), 101: ('WARREN', 0.534932918847677), 102: ('BUTTIGIEG', 0.3931069036109434), 103: ('KLOBUCHAR', 0.5330303470783226), 104: ('WARREN', 0.4013586655691041), 105: ('GABBARD', 0.5359306190953955), 106: ('YANG', 0.4466066838209394), 107: ('SANDERS', 0.4855747801906984), 108: ('CASTRO', 0.29299260818430206), 109: ('BUTTIGIEG', 0.4385777511441536), 110: ('WARREN', 0.41188513990816833)}\n"
          ],
          "name": "stdout"
        }
      ]
    },
    {
      "cell_type": "code",
      "metadata": {
        "id": "721Wq5zIET4u",
        "colab_type": "code",
        "colab": {
          "base_uri": "https://localhost:8080/",
          "height": 197
        },
        "outputId": "7ed69a49-99b5-40d7-c80b-dae06e2e303e"
      },
      "source": [
        "#generate new train and test\n",
        "dup_train, dup_test = addTopTest(dup_test, dup_train, pc, pp)"
      ],
      "execution_count": null,
      "outputs": [
        {
          "output_type": "stream",
          "text": [
            "Adding row  38  -----  1 / 11\n",
            "Adding row  92  -----  2 / 11\n",
            "Adding row  91  -----  3 / 11\n",
            "Adding row  13  -----  4 / 11\n",
            "Adding row  100  -----  5 / 11\n",
            "Adding row  52  -----  6 / 11\n",
            "Adding row  44  -----  7 / 11\n",
            "Adding row  30  -----  8 / 11\n",
            "Adding row  16  -----  9 / 11\n",
            "Adding row  11  -----  10 / 11\n",
            "Adding row  0  -----  11 / 11\n"
          ],
          "name": "stdout"
        }
      ]
    },
    {
      "cell_type": "code",
      "metadata": {
        "id": "G7rCE6KgItsd",
        "colab_type": "code",
        "colab": {
          "base_uri": "https://localhost:8080/",
          "height": 49
        },
        "outputId": "0713a69b-43d4-44aa-fb8e-12c5a338f2bd"
      },
      "source": [
        "print(\"The shape of train:\", dup_train.shape, \"\\ntest:\", dup_test.shape)"
      ],
      "execution_count": null,
      "outputs": [
        {
          "output_type": "stream",
          "text": [
            "The shape of train: (539, 10) \n",
            "test: (100, 8)\n"
          ],
          "name": "stdout"
        }
      ]
    },
    {
      "cell_type": "code",
      "metadata": {
        "id": "8fbfTCKWmITA",
        "colab_type": "code",
        "colab": {}
      },
      "source": [
        "#vectorize and then \n",
        "#vectorize train and test both \n",
        "def generateFeatures(train, test):\n",
        "  semi_train_x = vectorizer.transform(train['final_clean'])\n",
        "  semi_test_x = vectorizer.transform(test.Quotes)\n",
        "  semi_features = [f_ for f_ in train.columns\\\n",
        "                  if f_ in [\"char_count\", \"word_count\", \"word_density\", 'punctuation_count','title_word_count', 'upper_case_word_count']]\n",
        "  print(\"The shape of train:\", semi_train_x.shape, \"\\ntest:\", semi_train_x .shape)\n",
        "\n",
        "\n",
        "  for f in semi_features:\n",
        "      all_cut = pd.cut(pd.concat([train[f], test[f]], axis=0), bins=20, labels=False, retbins=False)\n",
        "      train[f] = all_cut.values[:train.shape[0]]\n",
        "      test[f] = all_cut.values[train.shape[0]:]\n",
        "\n",
        "  train_dup_features = train[semi_features].values\n",
        "  test_dup_features = test[semi_features].values\n",
        "  dup_train_features = hstack([semi_train_x, train_dup_features]) \n",
        "  dup_test_features = hstack([semi_test_x, test_dup_features])\n",
        "\n",
        "  return(dup_train_features, dup_test_features)"
      ],
      "execution_count": null,
      "outputs": []
    },
    {
      "cell_type": "code",
      "metadata": {
        "id": "DBRMF6e9oXE3",
        "colab_type": "code",
        "colab": {
          "base_uri": "https://localhost:8080/",
          "height": 49
        },
        "outputId": "8905b25c-0849-4e1d-934b-26a5996d1185"
      },
      "source": [
        "#generate feature for new test train\n",
        "curr_train_feature, curr_test_feature = generateFeatures(dup_train, dup_test)"
      ],
      "execution_count": null,
      "outputs": [
        {
          "output_type": "stream",
          "text": [
            "The shape of train: (539, 432) \n",
            "test: (539, 432)\n"
          ],
          "name": "stdout"
        }
      ]
    },
    {
      "cell_type": "code",
      "metadata": {
        "id": "TEHMGmGOq3qS",
        "colab_type": "code",
        "colab": {
          "base_uri": "https://localhost:8080/",
          "height": 98
        },
        "outputId": "eef8c617-ff46-4284-97b9-e868483172c3"
      },
      "source": [
        "clf_semi.fit(curr_train_feature,dup_train.label)"
      ],
      "execution_count": null,
      "outputs": [
        {
          "output_type": "execute_result",
          "data": {
            "text/plain": [
              "LogisticRegression(C=1.0, class_weight=None, dual=False, fit_intercept=True,\n",
              "                   intercept_scaling=1, l1_ratio=None, max_iter=100,\n",
              "                   multi_class='auto', n_jobs=None, penalty='l1',\n",
              "                   random_state=None, solver='liblinear', tol=0.0001, verbose=0,\n",
              "                   warm_start=False)"
            ]
          },
          "metadata": {
            "tags": []
          },
          "execution_count": 55
        }
      ]
    },
    {
      "cell_type": "code",
      "metadata": {
        "id": "LDN5zdYLstJq",
        "colab_type": "code",
        "colab": {
          "base_uri": "https://localhost:8080/",
          "height": 49
        },
        "outputId": "820ab82f-6455-4ebf-aff8-37e3f9fda4b1"
      },
      "source": [
        "accuracy = []\n",
        "ac = clf_semi.score(train_features, train_df.label)\n",
        "accuracy.append(ac)\n",
        "print(\"The accuracy of the model after 1st iteration on the updated train data is\" , clf_semi.score(curr_train_feature, dup_train.label) * 100, \"%\" )\n",
        "print(\"The accuracy of the model after 1st iteration on the original train data is\" ,ac * 100, \"%\" )"
      ],
      "execution_count": null,
      "outputs": [
        {
          "output_type": "stream",
          "text": [
            "The accuracy of the model after 1st iteration on the updated train data is 97.21706864564007 %\n",
            "The accuracy of the model after 1st iteration on the original train data is 97.1590909090909 %\n"
          ],
          "name": "stdout"
        }
      ]
    },
    {
      "cell_type": "markdown",
      "metadata": {
        "id": "VcJlOhrLu2GN",
        "colab_type": "text"
      },
      "source": [
        "The accuracy of the model for the original train data is 97.15% which is an increase from 96.96% which observed in part 2 or at the start of part 3."
      ]
    },
    {
      "cell_type": "markdown",
      "metadata": {
        "id": "p4fR6fNFS3qV",
        "colab_type": "text"
      },
      "source": [
        "#### 15. 9 more iteration and plotting performance in terms of accuracy\n",
        "\n",
        "---"
      ]
    },
    {
      "cell_type": "markdown",
      "metadata": {
        "id": "2PKdP-lUSmPY",
        "colab_type": "text"
      },
      "source": [
        "15. Now, repeat the process above 9 more times, each time adding an additional 10% of the test data for which the labels have the highest probability (note that this may result in different test observations being included from one iteration to the next). After each iteration, note the performance on the original training data set. Generate a plot which shows the percentage of the test dataset used on the X-axis and the classification accuracy on the original training dataset on the Y-axis. There should be 11 points for this plot, ranging from X = 0% to X = 100%, inclusive. What does the plot look like? Comment on what you see. (Note: this type of semi-supervised learning can very much be hit-or-miss. This type of learning doesn’t always yield benefits).\n"
      ]
    },
    {
      "cell_type": "code",
      "metadata": {
        "colab_type": "code",
        "id": "7WyRtQm6PtJX",
        "colab": {
          "base_uri": "https://localhost:8080/",
          "height": 1000
        },
        "outputId": "5a8b05ba-4766-4eaa-f051-3b6253f778e7"
      },
      "source": [
        "for ix in range(2, 11):\n",
        "  print(\"===============================\" , ix, \"===================================\")\n",
        "  if ix == 10:\n",
        "    pc, pp = getTopInstances(dup_test, curr_test_feature, 12)\n",
        "  else:\n",
        "    pc, pp = getTopInstances(dup_test, curr_test_feature, 11)\n",
        "  #generate new train and test\n",
        "  dup_train, dup_test = addTopTest(dup_test, dup_train, pc, pp)\n",
        "  print(\"The shape of train:\", dup_train.shape, \"\\ntest:\", dup_test.shape)\n",
        "  #generate feature for new test train\n",
        "  curr_train_feature, curr_test_feature = generateFeatures(dup_train, dup_test)\n",
        "  clf_semi.fit(curr_train_feature,dup_train.label)\n",
        "  ac = clf_semi.score(train_features, train_df.label)\n",
        "  accuracy.append(ac)\n",
        "  print(\"The accuracy of the model after\", ix,\" iteration on the update train data is\" , clf_semi.score(curr_train_feature, dup_train.label) * 100, \"%\" )\n",
        "  print(\"The accuracy of the model after\", ix,\"iteration on the original train data is\" ,ac * 100, \"%\" )\n",
        "  "
      ],
      "execution_count": null,
      "outputs": [
        {
          "output_type": "stream",
          "text": [
            "=============================== 2 ===================================\n",
            "The class and their associated probability {1: ('HARRIS', 0.5370140363637693), 2: ('STEYER', 0.3609973954720476), 3: ('BUTTIGIEG', 0.26109378674812117), 4: ('GABBARD', 0.31323626908301777), 5: ('BUTTIGIEG', 0.5630621011811736), 6: ('WARREN', 0.4029957904999807), 7: ('SANDERS', 0.40985015405753555), 8: ('GABBARD', 0.539144963441624), 9: ('BUTTIGIEG', 0.38860779273557555), 10: ('BOOKER', 0.743482491689109), 12: ('GABBARD', 0.6600611921155172), 14: ('KLOBUCHAR', 0.5288514316303533), 15: ('WARREN', 0.4530261530430109), 17: ('SANDERS', 0.2896144325127799), 18: ('SANDERS', 0.22473656016250645), 19: ('YANG', 0.3172596733196375), 20: ('WARREN', 0.7336472555614226), 21: ('BOOKER', 0.3968275081500908), 22: ('BUTTIGIEG', 0.42344182574260775), 23: ('BIDEN', 0.6668716120662769), 24: ('HARRIS', 0.6059779887722132), 25: ('SANDERS', 0.4992663218357219), 26: ('OROURKE', 0.49002236599174126), 27: ('HARRIS', 0.35758147625509457), 28: ('YANG', 0.34014314154458103), 29: ('GABBARD', 0.23382604498478415), 31: ('STEYER', 0.4293342516928104), 32: ('GABBARD', 0.7138203037314845), 33: ('SANDERS', 0.5213131641519241), 34: ('WARREN', 0.384366206904137), 35: ('BUTTIGIEG', 0.34313905765217706), 36: ('WARREN', 0.4588256975944227), 37: ('OROURKE', 0.6998850287513756), 39: ('WARREN', 0.514435149059772), 40: ('WARREN', 0.3584555728122667), 41: ('YANG', 0.3208497745792273), 42: ('KLOBUCHAR', 0.5538862185958262), 43: ('BUTTIGIEG', 0.29634501138548447), 45: ('HARRIS', 0.6281634631845984), 46: ('BIDEN', 0.49770688341171937), 47: ('SANDERS', 0.5938204415212354), 48: ('WARREN', 0.41497405771260004), 49: ('KLOBUCHAR', 0.303936478103376), 50: ('BUTTIGIEG', 0.4406716066296316), 51: ('YANG', 0.21590650020326455), 53: ('BIDEN', 0.4140139668502552), 54: ('KLOBUCHAR', 0.4173252010450788), 55: ('KLOBUCHAR', 0.623216799024035), 56: ('KLOBUCHAR', 0.6279623787476625), 57: ('SANDERS', 0.7095353071233732), 58: ('WARREN', 0.5695020315836283), 59: ('CASTRO', 0.3559137431087011), 60: ('WARREN', 0.311820258906258), 61: ('KLOBUCHAR', 0.22146570212551903), 62: ('BUTTIGIEG', 0.6209612414141372), 63: ('OROURKE', 0.5698860242334245), 64: ('WARREN', 0.31513254277671177), 65: ('BUTTIGIEG', 0.248269079074105), 66: ('KLOBUCHAR', 0.43134401834931224), 67: ('OROURKE', 0.4465900233765473), 68: ('BUTTIGIEG', 0.3464021887779011), 69: ('WARREN', 0.2179717407415344), 70: ('HARRIS', 0.5919206567521934), 71: ('OROURKE', 0.6068127188021205), 72: ('BUTTIGIEG', 0.6256764117274048), 73: ('CASTRO', 0.30954018087181173), 74: ('SANDERS', 0.591889633643461), 75: ('BUTTIGIEG', 0.40176917305098836), 76: ('WARREN', 0.31609152284073905), 77: ('SANDERS', 0.27162166490462963), 78: ('YANG', 0.4177537999920044), 79: ('BOOKER', 0.7112217151098607), 80: ('WARREN', 0.3699164653736132), 81: ('BIDEN', 0.2238213626754886), 82: ('SANDERS', 0.30207019860946105), 83: ('BIDEN', 0.4985305547924018), 84: ('SANDERS', 0.4360443048162872), 85: ('STEYER', 0.36219462532203256), 86: ('KLOBUCHAR', 0.4889678837551836), 87: ('OROURKE', 0.4767217489502375), 88: ('BOOKER', 0.2932966359975495), 89: ('KLOBUCHAR', 0.5741088237951686), 90: ('BUTTIGIEG', 0.6127832078517927), 93: ('BOOKER', 0.34934999962701285), 94: ('BUTTIGIEG', 0.5851308426181081), 95: ('WARREN', 0.563766627465627), 96: ('YANG', 0.4770124242946464), 97: ('BOOKER', 0.20766768498332086), 98: ('WARREN', 0.3746023654584493), 99: ('BOOKER', 0.35797824566208253), 101: ('WARREN', 0.5450265778870491), 102: ('BUTTIGIEG', 0.3853320436807269), 103: ('KLOBUCHAR', 0.5038842109689654), 104: ('WARREN', 0.4041799978410497), 105: ('GABBARD', 0.5400733375756192), 106: ('YANG', 0.4458651561572757), 107: ('SANDERS', 0.49640843194124795), 108: ('CASTRO', 0.35392406001458165), 109: ('BUTTIGIEG', 0.43368276843707304), 110: ('WARREN', 0.42949882793330346)}\n",
            "Adding row  10  -----  1 / 11\n",
            "Adding row  20  -----  2 / 11\n",
            "Adding row  32  -----  3 / 11\n",
            "Adding row  79  -----  4 / 11\n",
            "Adding row  57  -----  5 / 11\n",
            "Adding row  37  -----  6 / 11\n",
            "Adding row  23  -----  7 / 11\n",
            "Adding row  12  -----  8 / 11\n",
            "Adding row  45  -----  9 / 11\n",
            "Adding row  56  -----  10 / 11\n",
            "Adding row  72  -----  11 / 11\n",
            "The shape of train: (550, 10) \n",
            "test: (89, 8)\n",
            "The shape of train: (550, 432) \n",
            "test: (550, 432)\n",
            "The accuracy of the model after 2  iteration on the update train data is 97.0909090909091 %\n",
            "The accuracy of the model after 2 iteration on the original train data is 96.96969696969697 %\n",
            "=============================== 3 ===================================\n",
            "The class and their associated probability {1: ('HARRIS', 0.42817002947831406), 2: ('STEYER', 0.35875115351295106), 3: ('BUTTIGIEG', 0.25250938058870015), 4: ('GABBARD', 0.304360554904123), 5: ('BUTTIGIEG', 0.6014679670506256), 6: ('WARREN', 0.3939454268558852), 7: ('SANDERS', 0.42411135698565267), 8: ('GABBARD', 0.5751537988006858), 9: ('BUTTIGIEG', 0.3846304760221876), 14: ('KLOBUCHAR', 0.5144482817854131), 15: ('WARREN', 0.44783159487767354), 17: ('SANDERS', 0.3070936756718111), 18: ('HARRIS', 0.23294644527429126), 19: ('YANG', 0.25238368138757106), 21: ('BOOKER', 0.420298255106735), 22: ('BUTTIGIEG', 0.4523070997249416), 24: ('HARRIS', 0.6480761738880968), 25: ('SANDERS', 0.511297356337046), 26: ('OROURKE', 0.4763245654379684), 27: ('HARRIS', 0.4902417016556435), 28: ('YANG', 0.3806673502443419), 29: ('HARRIS', 0.4032211125989962), 31: ('STEYER', 0.5502985926950364), 33: ('SANDERS', 0.5192178765771905), 34: ('WARREN', 0.4072074627527801), 35: ('BUTTIGIEG', 0.31089072055834577), 36: ('WARREN', 0.4674947105164272), 39: ('WARREN', 0.5373215399353065), 40: ('WARREN', 0.3662810196754983), 41: ('YANG', 0.31730844431506267), 42: ('KLOBUCHAR', 0.4392134752322669), 43: ('BUTTIGIEG', 0.27325765385315726), 46: ('BIDEN', 0.5260917195964718), 47: ('SANDERS', 0.5792497313425675), 48: ('WARREN', 0.4172972971620432), 49: ('KLOBUCHAR', 0.3099652024848012), 50: ('BUTTIGIEG', 0.4055521604557436), 51: ('YANG', 0.20227045939203586), 53: ('BIDEN', 0.3775253120589487), 54: ('KLOBUCHAR', 0.3911925983040426), 55: ('HARRIS', 0.6093154378711428), 58: ('WARREN', 0.575448825185415), 59: ('CASTRO', 0.3845840366973791), 60: ('WARREN', 0.32007417646124997), 61: ('BOOKER', 0.33873323934925426), 62: ('BUTTIGIEG', 0.7133012902245472), 63: ('OROURKE', 0.573314509220946), 64: ('WARREN', 0.27527222096175735), 65: ('BUTTIGIEG', 0.23990561909056024), 66: ('KLOBUCHAR', 0.42204126466444924), 67: ('OROURKE', 0.4419123970348143), 68: ('BUTTIGIEG', 0.3598161900750843), 69: ('WARREN', 0.23398975397645388), 70: ('HARRIS', 0.6130556274039561), 71: ('OROURKE', 0.6812436436899688), 73: ('CASTRO', 0.318253744707877), 74: ('SANDERS', 0.5126374442243801), 75: ('BUTTIGIEG', 0.397356683431477), 76: ('WARREN', 0.3240360085930677), 77: ('YANG', 0.25741814245652006), 78: ('YANG', 0.4751331307328186), 80: ('WARREN', 0.39083262849379585), 81: ('YANG', 0.24361847610956308), 82: ('SANDERS', 0.2815263643971605), 83: ('BIDEN', 0.5405917760624259), 84: ('SANDERS', 0.43944499385544245), 85: ('STEYER', 0.3317216830394256), 86: ('KLOBUCHAR', 0.37398278315300315), 87: ('OROURKE', 0.4458291755220269), 88: ('BOOKER', 0.29124689420503413), 89: ('KLOBUCHAR', 0.5541223757185786), 90: ('BUTTIGIEG', 0.6277391113881212), 93: ('BOOKER', 0.31760080563037796), 94: ('BUTTIGIEG', 0.61448606601296), 95: ('WARREN', 0.5881100873185194), 96: ('YANG', 0.47793868786982113), 97: ('SANDERS', 0.21298107298179556), 98: ('WARREN', 0.36941434282028607), 99: ('KLOBUCHAR', 0.34757440490885744), 101: ('WARREN', 0.4498938088720594), 102: ('BUTTIGIEG', 0.38493937734464845), 103: ('KLOBUCHAR', 0.4838037662009036), 104: ('WARREN', 0.42049648085769725), 105: ('BUTTIGIEG', 0.36171221466446263), 106: ('YANG', 0.4720213470055178), 107: ('SANDERS', 0.5302253354011633), 108: ('CASTRO', 0.2988156846850093), 109: ('BUTTIGIEG', 0.3937867767859148), 110: ('WARREN', 0.44320657723565177)}\n",
            "Adding row  62  -----  1 / 11\n",
            "Adding row  71  -----  2 / 11\n",
            "Adding row  24  -----  3 / 11\n",
            "Adding row  90  -----  4 / 11\n",
            "Adding row  94  -----  5 / 11\n",
            "Adding row  70  -----  6 / 11\n",
            "Adding row  55  -----  7 / 11\n",
            "Adding row  5  -----  8 / 11\n",
            "Adding row  95  -----  9 / 11\n",
            "Adding row  47  -----  10 / 11\n",
            "Adding row  58  -----  11 / 11\n",
            "The shape of train: (561, 10) \n",
            "test: (78, 8)\n",
            "The shape of train: (561, 432) \n",
            "test: (561, 432)\n",
            "The accuracy of the model after 3  iteration on the update train data is 97.14795008912655 %\n",
            "The accuracy of the model after 3 iteration on the original train data is 96.96969696969697 %\n",
            "=============================== 4 ===================================\n",
            "The class and their associated probability {1: ('HARRIS', 0.42039807901562226), 2: ('STEYER', 0.38536444493531435), 3: ('BUTTIGIEG', 0.26942848672948944), 4: ('GABBARD', 0.3145492984076465), 6: ('WARREN', 0.3844888270193263), 7: ('SANDERS', 0.5453624277577332), 8: ('GABBARD', 0.5162744918680636), 9: ('BUTTIGIEG', 0.40694560421902753), 14: ('KLOBUCHAR', 0.47296455758414696), 15: ('WARREN', 0.4310466282622543), 17: ('OROURKE', 0.26615566439255967), 18: ('BUTTIGIEG', 0.2337336020737013), 19: ('YANG', 0.30201362002202836), 21: ('BOOKER', 0.4262115486730821), 22: ('BUTTIGIEG', 0.46051584609287216), 25: ('SANDERS', 0.47938358236715356), 26: ('OROURKE', 0.4802094059813968), 27: ('HARRIS', 0.5632866771972782), 28: ('YANG', 0.4000351771660146), 29: ('GABBARD', 0.28977834336830405), 31: ('STEYER', 0.5594422553876975), 33: ('SANDERS', 0.5416619954010555), 34: ('WARREN', 0.3932168102236687), 35: ('BUTTIGIEG', 0.31456614763548785), 36: ('WARREN', 0.4816762501505739), 39: ('WARREN', 0.5123628272480119), 40: ('WARREN', 0.38936680040233834), 41: ('YANG', 0.3300911883413069), 42: ('HARRIS', 0.39435032915622814), 43: ('BUTTIGIEG', 0.2966976662203693), 46: ('BIDEN', 0.4507442109180402), 48: ('WARREN', 0.424953262539507), 49: ('KLOBUCHAR', 0.30469060817160776), 50: ('BUTTIGIEG', 0.4510005544577767), 51: ('HARRIS', 0.2189678954295823), 53: ('BIDEN', 0.3483973947780045), 54: ('HARRIS', 0.38199671389285605), 59: ('CASTRO', 0.3464563394835565), 60: ('WARREN', 0.3301818316252092), 61: ('BOOKER', 0.32949312873288605), 63: ('OROURKE', 0.568235373869989), 64: ('WARREN', 0.261533213565303), 65: ('BUTTIGIEG', 0.24210588435673516), 66: ('BIDEN', 0.3662121771823739), 67: ('OROURKE', 0.4014140549153286), 68: ('BUTTIGIEG', 0.39276512562642746), 69: ('WARREN', 0.227788079885039), 73: ('CASTRO', 0.316369441290389), 74: ('SANDERS', 0.5933299586328503), 75: ('BUTTIGIEG', 0.44106943904072776), 76: ('WARREN', 0.31658150490991105), 77: ('WARREN', 0.2878101918020231), 78: ('YANG', 0.46147970592503473), 80: ('WARREN', 0.38209340943542447), 81: ('YANG', 0.26080482711265224), 82: ('BUTTIGIEG', 0.24953463954087002), 83: ('BIDEN', 0.5288926371755149), 84: ('SANDERS', 0.46754588435545336), 85: ('STEYER', 0.32754817692085086), 86: ('KLOBUCHAR', 0.3731466568471458), 87: ('OROURKE', 0.39916054257130595), 88: ('BOOKER', 0.28347961114157044), 89: ('KLOBUCHAR', 0.548364208370074), 93: ('BOOKER', 0.29217742196974544), 96: ('YANG', 0.47973918546170874), 97: ('WARREN', 0.2178406101062579), 98: ('WARREN', 0.3915972798577084), 99: ('KLOBUCHAR', 0.32942509418235993), 101: ('WARREN', 0.4734520707644509), 102: ('BUTTIGIEG', 0.42226276116911476), 103: ('HARRIS', 0.4841751166383631), 104: ('WARREN', 0.4178968466046884), 105: ('BUTTIGIEG', 0.3476245770230504), 106: ('YANG', 0.520149695988044), 107: ('SANDERS', 0.5470445725825092), 108: ('CASTRO', 0.2791978814349119), 109: ('BUTTIGIEG', 0.4376169992844998), 110: ('WARREN', 0.46303677660674)}\n",
            "Adding row  74  -----  1 / 11\n",
            "Adding row  63  -----  2 / 11\n",
            "Adding row  27  -----  3 / 11\n",
            "Adding row  31  -----  4 / 11\n",
            "Adding row  89  -----  5 / 11\n",
            "Adding row  107  -----  6 / 11\n",
            "Adding row  7  -----  7 / 11\n",
            "Adding row  33  -----  8 / 11\n",
            "Adding row  83  -----  9 / 11\n",
            "Adding row  106  -----  10 / 11\n",
            "Adding row  8  -----  11 / 11\n",
            "The shape of train: (572, 10) \n",
            "test: (67, 8)\n",
            "The shape of train: (572, 432) \n",
            "test: (572, 432)\n",
            "The accuracy of the model after 4  iteration on the update train data is 97.2027972027972 %\n",
            "The accuracy of the model after 4 iteration on the original train data is 96.96969696969697 %\n",
            "=============================== 5 ===================================\n",
            "The class and their associated probability {1: ('HARRIS', 0.3430675904032652), 2: ('STEYER', 0.3803871153710871), 3: ('BUTTIGIEG', 0.22748419076937548), 4: ('GABBARD', 0.28655228176389463), 6: ('WARREN', 0.39553644089378914), 9: ('BUTTIGIEG', 0.35907607666390423), 14: ('KLOBUCHAR', 0.5432135007711287), 15: ('BIDEN', 0.4088793820752294), 17: ('SANDERS', 0.3521246165882808), 18: ('HARRIS', 0.2767174336141979), 19: ('YANG', 0.30616553111335354), 21: ('BOOKER', 0.4405671268519999), 22: ('BUTTIGIEG', 0.49705978215331714), 25: ('SANDERS', 0.5531710886063312), 26: ('OROURKE', 0.48697091065538844), 28: ('YANG', 0.35407795775174294), 29: ('GABBARD', 0.30283929385130265), 34: ('WARREN', 0.34790424668027176), 35: ('BUTTIGIEG', 0.2942276852788879), 36: ('WARREN', 0.5207619472109395), 39: ('WARREN', 0.5385851027217704), 40: ('WARREN', 0.41021511784477316), 41: ('YANG', 0.37022114050290117), 42: ('HARRIS', 0.3923467836374493), 43: ('BUTTIGIEG', 0.24435317899014378), 46: ('HARRIS', 0.4241343774555368), 48: ('WARREN', 0.42548875573198724), 49: ('KLOBUCHAR', 0.3043772999211029), 50: ('BUTTIGIEG', 0.3866842345900528), 51: ('HARRIS', 0.22540022278308317), 53: ('BIDEN', 0.3009716985193386), 54: ('HARRIS', 0.3811709273432878), 59: ('CASTRO', 0.34920516805859586), 60: ('WARREN', 0.31055741155600175), 61: ('BOOKER', 0.3144885906247891), 64: ('SANDERS', 0.409886043776087), 65: ('BUTTIGIEG', 0.20188023625712298), 66: ('BIDEN', 0.38171006074528024), 67: ('OROURKE', 0.4268335588121277), 68: ('BUTTIGIEG', 0.370538551210657), 69: ('WARREN', 0.2347432951279223), 73: ('BIDEN', 0.32373348687568543), 75: ('BUTTIGIEG', 0.4048953821681244), 76: ('WARREN', 0.3266995323087283), 77: ('SANDERS', 0.34702354585525735), 78: ('YANG', 0.4360474445228999), 80: ('WARREN', 0.38481031585149017), 81: ('YANG', 0.29779695839965015), 82: ('BUTTIGIEG', 0.21699727969184524), 84: ('SANDERS', 0.5082039992556935), 85: ('STEYER', 0.3032233903997426), 86: ('KLOBUCHAR', 0.3777814984792786), 87: ('OROURKE', 0.3482289404901616), 88: ('BOOKER', 0.29870292320702657), 93: ('BOOKER', 0.2838084451377065), 96: ('YANG', 0.48641506306665855), 97: ('KLOBUCHAR', 0.25176018949538037), 98: ('WARREN', 0.40901343836847204), 99: ('KLOBUCHAR', 0.3273501531448511), 101: ('WARREN', 0.5004280528875491), 102: ('BUTTIGIEG', 0.39159843581709003), 103: ('HARRIS', 0.49063295466309587), 104: ('WARREN', 0.45042929725398173), 105: ('GABBARD', 0.42950655770504564), 108: ('HARRIS', 0.24954108194172253), 109: ('BUTTIGIEG', 0.3331102382815286), 110: ('WARREN', 0.4375984324262172)}\n",
            "Adding row  25  -----  1 / 11\n",
            "Adding row  14  -----  2 / 11\n",
            "Adding row  39  -----  3 / 11\n",
            "Adding row  36  -----  4 / 11\n",
            "Adding row  84  -----  5 / 11\n",
            "Adding row  101  -----  6 / 11\n",
            "Adding row  22  -----  7 / 11\n",
            "Adding row  103  -----  8 / 11\n",
            "Adding row  26  -----  9 / 11\n",
            "Adding row  96  -----  10 / 11\n",
            "Adding row  104  -----  11 / 11\n",
            "The shape of train: (583, 10) \n",
            "test: (56, 8)\n",
            "The shape of train: (583, 432) \n",
            "test: (583, 432)\n",
            "The accuracy of the model after 5  iteration on the update train data is 96.91252144082333 %\n",
            "The accuracy of the model after 5 iteration on the original train data is 96.5909090909091 %\n",
            "=============================== 6 ===================================\n",
            "The class and their associated probability {1: ('YANG', 0.38025151944098273), 2: ('STEYER', 0.42161726705170055), 3: ('WARREN', 0.22999379017372776), 4: ('GABBARD', 0.3115746333405648), 6: ('WARREN', 0.40525086995031573), 9: ('BUTTIGIEG', 0.34643403335076967), 15: ('WARREN', 0.45524287230278676), 17: ('SANDERS', 0.2946586406325232), 18: ('HARRIS', 0.30774821743459185), 19: ('HARRIS', 0.4982763475429643), 21: ('BOOKER', 0.4431684953930343), 28: ('YANG', 0.3615780725761001), 29: ('GABBARD', 0.31097668434900033), 34: ('WARREN', 0.4422785368021958), 35: ('BUTTIGIEG', 0.3416381223802454), 40: ('WARREN', 0.4470984582237189), 41: ('YANG', 0.37482248061601753), 42: ('HARRIS', 0.440548063349033), 43: ('BUTTIGIEG', 0.21971128627382902), 46: ('HARRIS', 0.4478821389597354), 48: ('WARREN', 0.40555251251605384), 49: ('KLOBUCHAR', 0.2885841738044967), 50: ('BUTTIGIEG', 0.38625716324536), 51: ('HARRIS', 0.29885338277129553), 53: ('HARRIS', 0.35236080097865075), 54: ('HARRIS', 0.4046195341075571), 59: ('WARREN', 0.35597352602071797), 60: ('WARREN', 0.33423801599887043), 61: ('BOOKER', 0.31284076521276205), 64: ('SANDERS', 0.382909261431372), 65: ('BUTTIGIEG', 0.19950045096685234), 66: ('BIDEN', 0.32089729168995285), 67: ('OROURKE', 0.4261481450032405), 68: ('BUTTIGIEG', 0.3568566813614509), 69: ('WARREN', 0.2641037941499305), 73: ('CASTRO', 0.322741627612829), 75: ('BUTTIGIEG', 0.41327541692836745), 76: ('WARREN', 0.34165401282751817), 77: ('SANDERS', 0.4613592275378959), 78: ('WARREN', 0.4745785556340498), 80: ('WARREN', 0.4193899116715082), 81: ('YANG', 0.29338828328155153), 82: ('YANG', 0.2690573709974847), 85: ('STEYER', 0.34386450127388296), 86: ('KLOBUCHAR', 0.48696479956059413), 87: ('HARRIS', 0.38241353293929226), 88: ('BOOKER', 0.2868135956491726), 93: ('WARREN', 0.5350943319686987), 97: ('WARREN', 0.3328366903249823), 98: ('WARREN', 0.5029740729042298), 99: ('KLOBUCHAR', 0.3323211640869335), 102: ('BUTTIGIEG', 0.3311589654947026), 105: ('GABBARD', 0.42587070189778553), 108: ('HARRIS', 0.47827750561871474), 109: ('SANDERS', 0.3424136562767418), 110: ('YANG', 0.3679761133393365)}\n",
            "Adding row  93  -----  1 / 11\n",
            "Adding row  98  -----  2 / 11\n",
            "Adding row  19  -----  3 / 11\n",
            "Adding row  86  -----  4 / 11\n",
            "Adding row  108  -----  5 / 11\n",
            "Adding row  78  -----  6 / 11\n",
            "Adding row  77  -----  7 / 11\n",
            "Adding row  15  -----  8 / 11\n",
            "Adding row  46  -----  9 / 11\n",
            "Adding row  40  -----  10 / 11\n",
            "Adding row  21  -----  11 / 11\n",
            "The shape of train: (594, 10) \n",
            "test: (45, 8)\n",
            "The shape of train: (594, 432) \n",
            "test: (594, 432)\n",
            "The accuracy of the model after 6  iteration on the update train data is 96.96969696969697 %\n",
            "The accuracy of the model after 6 iteration on the original train data is 96.5909090909091 %\n",
            "=============================== 7 ===================================\n",
            "The class and their associated probability {1: ('YANG', 0.3877451884862372), 2: ('STEYER', 0.4063792488032747), 3: ('WARREN', 0.24937494706044708), 4: ('GABBARD', 0.30219353707646923), 6: ('WARREN', 0.4643109378437266), 9: ('SANDERS', 0.35627818872253697), 17: ('SANDERS', 0.28538618229917356), 18: ('HARRIS', 0.2472607935651834), 28: ('YANG', 0.3580611601303869), 29: ('HARRIS', 0.3485133471363999), 34: ('WARREN', 0.4445226502953084), 35: ('BUTTIGIEG', 0.3958912767744916), 41: ('YANG', 0.36889561589202535), 42: ('HARRIS', 0.4321130055910178), 43: ('BUTTIGIEG', 0.2274049598472829), 48: ('WARREN', 0.448362529781818), 49: ('KLOBUCHAR', 0.29705716352096684), 50: ('BUTTIGIEG', 0.3923888139508502), 51: ('HARRIS', 0.30217889354482413), 53: ('HARRIS', 0.36708810035568323), 54: ('HARRIS', 0.3979680693044444), 59: ('WARREN', 0.4007372492940516), 60: ('WARREN', 0.348398790842368), 61: ('BOOKER', 0.28790519491525746), 64: ('WARREN', 0.4032436978601495), 65: ('BUTTIGIEG', 0.18539563678262153), 66: ('HARRIS', 0.35678923775223853), 67: ('OROURKE', 0.4274459203824276), 68: ('BUTTIGIEG', 0.333991365041847), 69: ('WARREN', 0.293147742926188), 73: ('BIDEN', 0.3313209423980555), 75: ('BUTTIGIEG', 0.41677211360904004), 76: ('WARREN', 0.3830219461812917), 80: ('WARREN', 0.42525374729345117), 81: ('YANG', 0.3751641289186753), 82: ('YANG', 0.3017120858365634), 85: ('STEYER', 0.3374543923396036), 87: ('HARRIS', 0.6254287525528593), 88: ('BOOKER', 0.3173702898613027), 97: ('WARREN', 0.42239613636214995), 99: ('BOOKER', 0.32379877271127383), 102: ('BUTTIGIEG', 0.3028525817198345), 105: ('GABBARD', 0.4760320469454102), 109: ('BUTTIGIEG', 0.32496956717887865), 110: ('YANG', 0.36462733239804884)}\n",
            "Adding row  87  -----  1 / 11\n",
            "Adding row  105  -----  2 / 11\n",
            "Adding row  6  -----  3 / 11\n",
            "Adding row  48  -----  4 / 11\n",
            "Adding row  34  -----  5 / 11\n",
            "Adding row  42  -----  6 / 11\n",
            "Adding row  67  -----  7 / 11\n",
            "Adding row  80  -----  8 / 11\n",
            "Adding row  97  -----  9 / 11\n",
            "Adding row  75  -----  10 / 11\n",
            "Adding row  2  -----  11 / 11\n",
            "The shape of train: (605, 10) \n",
            "test: (34, 8)\n",
            "The shape of train: (605, 432) \n",
            "test: (605, 432)\n",
            "The accuracy of the model after 7  iteration on the update train data is 96.8595041322314 %\n",
            "The accuracy of the model after 7 iteration on the original train data is 96.40151515151516 %\n",
            "=============================== 8 ===================================\n",
            "The class and their associated probability {1: ('YANG', 0.44758404816346015), 3: ('WARREN', 0.27128235053092425), 4: ('YANG', 0.27803214946838395), 9: ('BUTTIGIEG', 0.42213226081767186), 17: ('SANDERS', 0.2740677036458099), 18: ('HARRIS', 0.3262604922945736), 28: ('GABBARD', 0.31354407753599384), 29: ('HARRIS', 0.5185315945228843), 35: ('BUTTIGIEG', 0.3439664461057635), 41: ('YANG', 0.35722637702269505), 43: ('BUTTIGIEG', 0.2741788033674176), 49: ('KLOBUCHAR', 0.30198984542711005), 50: ('BUTTIGIEG', 0.3743052128767296), 51: ('HARRIS', 0.3962070360365905), 53: ('HARRIS', 0.36697005026619167), 54: ('HARRIS', 0.40533883335085563), 59: ('WARREN', 0.41476791446738664), 60: ('WARREN', 0.41987538346425207), 61: ('BOOKER', 0.27664056552330724), 64: ('SANDERS', 0.38057577027493705), 65: ('WARREN', 0.19667444307880597), 66: ('HARRIS', 0.35542688970167463), 68: ('BUTTIGIEG', 0.43624090582269504), 69: ('WARREN', 0.3696329328157561), 73: ('CASTRO', 0.29067630940494643), 76: ('WARREN', 0.44005076895293493), 81: ('YANG', 0.35702411684531465), 82: ('YANG', 0.2888499404159565), 85: ('STEYER', 0.2964292364719374), 88: ('BOOKER', 0.28604225216633544), 99: ('KLOBUCHAR', 0.3598505821222237), 102: ('BUTTIGIEG', 0.32186575564318115), 109: ('BUTTIGIEG', 0.3296267945242912), 110: ('WARREN', 0.314106084887616)}\n",
            "Adding row  29  -----  1 / 11\n",
            "Adding row  1  -----  2 / 11\n",
            "Adding row  76  -----  3 / 11\n",
            "Adding row  68  -----  4 / 11\n",
            "Adding row  9  -----  5 / 11\n",
            "Adding row  60  -----  6 / 11\n",
            "Adding row  59  -----  7 / 11\n",
            "Adding row  54  -----  8 / 11\n",
            "Adding row  51  -----  9 / 11\n",
            "Adding row  64  -----  10 / 11\n",
            "Adding row  50  -----  11 / 11\n",
            "The shape of train: (616, 10) \n",
            "test: (23, 8)\n",
            "The shape of train: (616, 432) \n",
            "test: (616, 432)\n",
            "The accuracy of the model after 8  iteration on the update train data is 96.75324675324676 %\n",
            "The accuracy of the model after 8 iteration on the original train data is 96.21212121212122 %\n",
            "=============================== 9 ===================================\n",
            "The class and their associated probability {3: ('BUTTIGIEG', 0.29293445411278163), 4: ('YANG', 0.26800165321823255), 17: ('SANDERS', 0.3562068097306518), 18: ('BUTTIGIEG', 0.30966104150825313), 28: ('BUTTIGIEG', 0.36106991443724545), 35: ('BUTTIGIEG', 0.3405807679515756), 41: ('YANG', 0.31308256658474537), 43: ('BUTTIGIEG', 0.3258493753985057), 49: ('KLOBUCHAR', 0.2998032842559888), 53: ('HARRIS', 0.3561080309578998), 61: ('BUTTIGIEG', 0.4339403398240057), 65: ('BUTTIGIEG', 0.2307330620790289), 66: ('HARRIS', 0.40317416628921204), 69: ('WARREN', 0.4224410794886984), 73: ('BIDEN', 0.28353902096238875), 81: ('YANG', 0.3235152954712682), 82: ('HARRIS', 0.24115755002950612), 85: ('STEYER', 0.30070403177312677), 88: ('BOOKER', 0.2955826986784207), 99: ('KLOBUCHAR', 0.32542074825733536), 102: ('BUTTIGIEG', 0.26271603880969163), 109: ('BUTTIGIEG', 0.510615017886128), 110: ('YANG', 0.30583500170782074)}\n",
            "Adding row  109  -----  1 / 11\n",
            "Adding row  61  -----  2 / 11\n",
            "Adding row  69  -----  3 / 11\n",
            "Adding row  66  -----  4 / 11\n",
            "Adding row  28  -----  5 / 11\n",
            "Adding row  17  -----  6 / 11\n",
            "Adding row  53  -----  7 / 11\n",
            "Adding row  35  -----  8 / 11\n",
            "Adding row  43  -----  9 / 11\n",
            "Adding row  99  -----  10 / 11\n",
            "Adding row  81  -----  11 / 11\n",
            "The shape of train: (627, 10) \n",
            "test: (12, 8)\n",
            "The shape of train: (627, 432) \n",
            "test: (627, 432)\n",
            "The accuracy of the model after 9  iteration on the update train data is 96.96969696969697 %\n",
            "The accuracy of the model after 9 iteration on the original train data is 96.40151515151516 %\n",
            "=============================== 10 ===================================\n",
            "The class and their associated probability {3: ('BUTTIGIEG', 0.3531478150440037), 4: ('YANG', 0.3771805701591623), 18: ('BUTTIGIEG', 0.2466362465842136), 41: ('YANG', 0.27568653809971927), 49: ('KLOBUCHAR', 0.29807682443636846), 65: ('WARREN', 0.2251222729501712), 73: ('BIDEN', 0.27735749095601386), 82: ('SANDERS', 0.2601973554041203), 85: ('STEYER', 0.30022759641518004), 88: ('BOOKER', 0.30086865606715363), 102: ('YANG', 0.3348610005066919), 110: ('WARREN', 0.2781012078026645)}\n",
            "Adding row  4  -----  1 / 11\n",
            "Adding row  3  -----  2 / 11\n",
            "Adding row  102  -----  3 / 11\n",
            "Adding row  88  -----  4 / 11\n",
            "Adding row  85  -----  5 / 11\n",
            "Adding row  49  -----  6 / 11\n",
            "Adding row  110  -----  7 / 11\n",
            "Adding row  73  -----  8 / 11\n",
            "Adding row  41  -----  9 / 11\n",
            "Adding row  82  -----  10 / 11\n",
            "Adding row  18  -----  11 / 11\n",
            "Adding row  65  -----  12 / 11\n",
            "The shape of train: (639, 10) \n",
            "test: (0, 8)\n",
            "The shape of train: (639, 432) \n",
            "test: (639, 432)\n",
            "The accuracy of the model after 10  iteration on the update train data is 97.0266040688576 %\n",
            "The accuracy of the model after 10 iteration on the original train data is 96.40151515151516 %\n"
          ],
          "name": "stdout"
        }
      ]
    },
    {
      "cell_type": "code",
      "metadata": {
        "id": "lUnZpzh2snwm",
        "colab_type": "code",
        "colab": {
          "base_uri": "https://localhost:8080/",
          "height": 32
        },
        "outputId": "a425b509-741e-4bcb-bb6c-d325b3dff66f"
      },
      "source": [
        "print(len(accuracy))"
      ],
      "execution_count": null,
      "outputs": [
        {
          "output_type": "stream",
          "text": [
            "10\n"
          ],
          "name": "stdout"
        }
      ]
    },
    {
      "cell_type": "code",
      "metadata": {
        "id": "wcKo9adlajdv",
        "colab_type": "code",
        "colab": {
          "base_uri": "https://localhost:8080/",
          "height": 302
        },
        "outputId": "d138ddcf-c29f-492f-c846-17f97b35754f"
      },
      "source": [
        "plt.axes()\n",
        "plt.plot(np.arange(10, 110, 10), accuracy)\n",
        "plt.xlim([0, 120])\n",
        "plt.ylim([0.95, 1])\n",
        "plt.yticks(np.arange(0.95, 1, 0.01))\n",
        "plt.xticks(np.arange(10, 110, 10))\n",
        "\n",
        "plt.title(\"Classification Accuracy vs % test data\")\n",
        "\n",
        "plt.xticks(rotation=90)\n",
        "plt.xlabel(\"Percentage of test data added to the train set\")\n",
        "plt.ylabel(\"Classification accuracy of original train set\")\n",
        "plt.show()\n",
        "plt.show()"
      ],
      "execution_count": null,
      "outputs": [
        {
          "output_type": "display_data",
          "data": {
            "image/png": "[encoded data removed]",
            "text/plain": [
              "<Figure size 432x288 with 1 Axes>"
            ]
          },
          "metadata": {
            "tags": [],
            "needs_background": "light"
          }
        }
      ]
    },
    {
      "cell_type": "markdown",
      "metadata": {
        "id": "dP-UvXxfvHsI",
        "colab_type": "text"
      },
      "source": [
        "As we keep adding self-labelled test data to the training data and train on this new data, we notice that the accuracy for the original train data which initially now follows a decrease followed by increase pattern. Towards the end, the accuracy of the model for the original train data is a little less than the original regularized logistic regression model\n"
      ]
    },
    {
      "cell_type": "markdown",
      "metadata": {
        "id": "fY8J1313S4F7",
        "colab_type": "text"
      },
      "source": [
        "#### 16. Generate labels for semi-supervised\n",
        "\n",
        "---"
      ]
    },
    {
      "cell_type": "code",
      "metadata": {
        "id": "ix1kfzIwvzHB",
        "colab_type": "code",
        "colab": {
          "base_uri": "https://localhost:8080/",
          "height": 280
        },
        "outputId": "9e9a675c-56e7-470c-a42d-e2738ac06b5a"
      },
      "source": [
        "part_3_labels = clf_semi.predict(test_features)\n",
        "print(part_3_labels)"
      ],
      "execution_count": null,
      "outputs": [
        {
          "output_type": "stream",
          "text": [
            "['BUTTIGIEG' 'YANG' 'STEYER' 'BUTTIGIEG' 'YANG' 'BUTTIGIEG' 'WARREN'\n",
            " 'SANDERS' 'GABBARD' 'BUTTIGIEG' 'BOOKER' 'BUTTIGIEG' 'GABBARD'\n",
            " 'BUTTIGIEG' 'KLOBUCHAR' 'WARREN' 'YANG' 'SANDERS' 'BUTTIGIEG' 'HARRIS'\n",
            " 'WARREN' 'BOOKER' 'BUTTIGIEG' 'BIDEN' 'HARRIS' 'SANDERS' 'OROURKE'\n",
            " 'HARRIS' 'BUTTIGIEG' 'HARRIS' 'HARRIS' 'STEYER' 'GABBARD' 'SANDERS'\n",
            " 'WARREN' 'BUTTIGIEG' 'WARREN' 'OROURKE' 'BOOKER' 'WARREN' 'WARREN' 'YANG'\n",
            " 'HARRIS' 'BUTTIGIEG' 'BOOKER' 'HARRIS' 'HARRIS' 'SANDERS' 'WARREN'\n",
            " 'KLOBUCHAR' 'BUTTIGIEG' 'HARRIS' 'KLOBUCHAR' 'HARRIS' 'HARRIS' 'HARRIS'\n",
            " 'KLOBUCHAR' 'SANDERS' 'WARREN' 'WARREN' 'WARREN' 'BUTTIGIEG' 'BUTTIGIEG'\n",
            " 'OROURKE' 'SANDERS' 'WARREN' 'HARRIS' 'OROURKE' 'BUTTIGIEG' 'WARREN'\n",
            " 'HARRIS' 'OROURKE' 'BUTTIGIEG' 'BIDEN' 'SANDERS' 'BUTTIGIEG' 'WARREN'\n",
            " 'SANDERS' 'WARREN' 'BOOKER' 'WARREN' 'YANG' 'SANDERS' 'BIDEN' 'SANDERS'\n",
            " 'STEYER' 'KLOBUCHAR' 'HARRIS' 'BOOKER' 'KLOBUCHAR' 'BUTTIGIEG' 'BIDEN'\n",
            " 'BIDEN' 'WARREN' 'BUTTIGIEG' 'WARREN' 'YANG' 'WARREN' 'WARREN'\n",
            " 'KLOBUCHAR' 'OROURKE' 'WARREN' 'YANG' 'HARRIS' 'WARREN' 'GABBARD' 'YANG'\n",
            " 'SANDERS' 'HARRIS' 'BUTTIGIEG' 'WARREN']\n"
          ],
          "name": "stdout"
        }
      ]
    },
    {
      "cell_type": "code",
      "metadata": {
        "id": "5SW5rByvv8ae",
        "colab_type": "code",
        "colab": {
          "base_uri": "https://localhost:8080/",
          "height": 69
        },
        "outputId": "1f3c9d10-efc9-4bed-fc90-251ea561c08b"
      },
      "source": [
        "#sanity check\n",
        "print(\"The length of the predicted values \", len(part_3_labels))\n",
        "#extract file name from test_df\n",
        "file_label = test_df.file_name.tolist()\n",
        "print(file_label)"
      ],
      "execution_count": null,
      "outputs": [
        {
          "output_type": "stream",
          "text": [
            "The length of the predicted values  111\n",
            "['test_78.txt', 'test_64.txt', 'test_96.txt', 'test_94.txt', 'test_3.txt', 'test_28.txt', 'test_36.txt', 'test_39.txt', 'test_69.txt', 'test_65.txt', 'test_90.txt', 'test_102.txt', 'test_32.txt', 'test_22.txt', 'test_44.txt', 'test_87.txt', 'test_19.txt', 'test_88.txt', 'test_13.txt', 'test_41.txt', 'test_93.txt', 'test_16.txt', 'test_42.txt', 'test_63.txt', 'test_97.txt', 'test_35.txt', 'test_6.txt', 'test_98.txt', 'test_79.txt', 'test_101.txt', 'test_82.txt', 'test_48.txt', 'test_55.txt', 'test_84.txt', 'test_46.txt', 'test_33.txt', 'test_38.txt', 'test_51.txt', 'test_17.txt', 'test_14.txt', 'test_75.txt', 'test_34.txt', 'test_111.txt', 'test_95.txt', 'test_20.txt', 'test_4.txt', 'test_57.txt', 'test_68.txt', 'test_29.txt', 'test_91.txt', 'test_43.txt', 'test_73.txt', 'test_109.txt', 'test_50.txt', 'test_86.txt', 'test_26.txt', 'test_47.txt', 'test_11.txt', 'test_25.txt', 'test_103.txt', 'test_76.txt', 'test_56.txt', 'test_105.txt', 'test_54.txt', 'test_62.txt', 'test_108.txt', 'test_52.txt', 'test_12.txt', 'test_9.txt', 'test_24.txt', 'test_27.txt', 'test_92.txt', 'test_7.txt', 'test_23.txt', 'test_67.txt', 'test_21.txt', 'test_2.txt', 'test_37.txt', 'test_72.txt', 'test_31.txt', 'test_77.txt', 'test_1.txt', 'test_18.txt', 'test_61.txt', 'test_49.txt', 'test_89.txt', 'test_80.txt', 'test_104.txt', 'test_71.txt', 'test_59.txt', 'test_66.txt', 'test_110.txt', 'test_99.txt', 'test_81.txt', 'test_30.txt', 'test_83.txt', 'test_8.txt', 'test_70.txt', 'test_85.txt', 'test_5.txt', 'test_106.txt', 'test_40.txt', 'test_10.txt', 'test_60.txt', 'test_100.txt', 'test_53.txt', 'test_45.txt', 'test_58.txt', 'test_15.txt', 'test_74.txt', 'test_107.txt']\n"
          ],
          "name": "stdout"
        }
      ]
    },
    {
      "cell_type": "code",
      "metadata": {
        "id": "rCAeTtuOwT5R",
        "colab_type": "code",
        "colab": {
          "base_uri": "https://localhost:8080/",
          "height": 201
        },
        "outputId": "fdc4baa1-420f-4ae3-f41d-525945b25bb2"
      },
      "source": [
        "#convert to a dataframe\n",
        "final_submission = pd.DataFrame({'FILE': file_label, 'MODEL1':part_2_labels, 'MODEL2': part_3_labels})\n",
        "final_submission.head()"
      ],
      "execution_count": null,
      "outputs": [
        {
          "output_type": "execute_result",
          "data": {
            "text/html": [
              "<div>\n",
              "<style scoped>\n",
              "    .dataframe tbody tr th:only-of-type {\n",
              "        vertical-align: middle;\n",
              "    }\n",
              "\n",
              "    .dataframe tbody tr th {\n",
              "        vertical-align: top;\n",
              "    }\n",
              "\n",
              "    .dataframe thead th {\n",
              "        text-align: right;\n",
              "    }\n",
              "</style>\n",
              "<table border=\"1\" class=\"dataframe\">\n",
              "  <thead>\n",
              "    <tr style=\"text-align: right;\">\n",
              "      <th></th>\n",
              "      <th>FILE</th>\n",
              "      <th>MODEL1</th>\n",
              "      <th>MODEL2</th>\n",
              "    </tr>\n",
              "  </thead>\n",
              "  <tbody>\n",
              "    <tr>\n",
              "      <th>0</th>\n",
              "      <td>test_78.txt</td>\n",
              "      <td>BUTTIGIEG</td>\n",
              "      <td>BUTTIGIEG</td>\n",
              "    </tr>\n",
              "    <tr>\n",
              "      <th>1</th>\n",
              "      <td>test_64.txt</td>\n",
              "      <td>YANG</td>\n",
              "      <td>YANG</td>\n",
              "    </tr>\n",
              "    <tr>\n",
              "      <th>2</th>\n",
              "      <td>test_96.txt</td>\n",
              "      <td>STEYER</td>\n",
              "      <td>STEYER</td>\n",
              "    </tr>\n",
              "    <tr>\n",
              "      <th>3</th>\n",
              "      <td>test_94.txt</td>\n",
              "      <td>BUTTIGIEG</td>\n",
              "      <td>BUTTIGIEG</td>\n",
              "    </tr>\n",
              "    <tr>\n",
              "      <th>4</th>\n",
              "      <td>test_3.txt</td>\n",
              "      <td>GABBARD</td>\n",
              "      <td>YANG</td>\n",
              "    </tr>\n",
              "  </tbody>\n",
              "</table>\n",
              "</div>"
            ],
            "text/plain": [
              "          FILE     MODEL1     MODEL2\n",
              "0  test_78.txt  BUTTIGIEG  BUTTIGIEG\n",
              "1  test_64.txt       YANG       YANG\n",
              "2  test_96.txt     STEYER     STEYER\n",
              "3  test_94.txt  BUTTIGIEG  BUTTIGIEG\n",
              "4   test_3.txt    GABBARD       YANG"
            ]
          },
          "metadata": {
            "tags": []
          },
          "execution_count": 62
        }
      ]
    },
    {
      "cell_type": "code",
      "metadata": {
        "id": "t-z9OYf60Du9",
        "colab_type": "code",
        "colab": {}
      },
      "source": [
        "#sorting by file name\n",
        "submission_df = final_submission.sort_values('FILE')"
      ],
      "execution_count": null,
      "outputs": []
    },
    {
      "cell_type": "code",
      "metadata": {
        "id": "NW_sD7ux0Ow7",
        "colab_type": "code",
        "colab": {
          "base_uri": "https://localhost:8080/",
          "height": 201
        },
        "outputId": "61ec3f7b-49da-4d38-d57e-aa07909c308e"
      },
      "source": [
        "submission_df.head()"
      ],
      "execution_count": null,
      "outputs": [
        {
          "output_type": "execute_result",
          "data": {
            "text/html": [
              "<div>\n",
              "<style scoped>\n",
              "    .dataframe tbody tr th:only-of-type {\n",
              "        vertical-align: middle;\n",
              "    }\n",
              "\n",
              "    .dataframe tbody tr th {\n",
              "        vertical-align: top;\n",
              "    }\n",
              "\n",
              "    .dataframe thead th {\n",
              "        text-align: right;\n",
              "    }\n",
              "</style>\n",
              "<table border=\"1\" class=\"dataframe\">\n",
              "  <thead>\n",
              "    <tr style=\"text-align: right;\">\n",
              "      <th></th>\n",
              "      <th>FILE</th>\n",
              "      <th>MODEL1</th>\n",
              "      <th>MODEL2</th>\n",
              "    </tr>\n",
              "  </thead>\n",
              "  <tbody>\n",
              "    <tr>\n",
              "      <th>81</th>\n",
              "      <td>test_1.txt</td>\n",
              "      <td>BUTTIGIEG</td>\n",
              "      <td>YANG</td>\n",
              "    </tr>\n",
              "    <tr>\n",
              "      <th>102</th>\n",
              "      <td>test_10.txt</td>\n",
              "      <td>BUTTIGIEG</td>\n",
              "      <td>YANG</td>\n",
              "    </tr>\n",
              "    <tr>\n",
              "      <th>104</th>\n",
              "      <td>test_100.txt</td>\n",
              "      <td>WARREN</td>\n",
              "      <td>WARREN</td>\n",
              "    </tr>\n",
              "    <tr>\n",
              "      <th>29</th>\n",
              "      <td>test_101.txt</td>\n",
              "      <td>GABBARD</td>\n",
              "      <td>HARRIS</td>\n",
              "    </tr>\n",
              "    <tr>\n",
              "      <th>11</th>\n",
              "      <td>test_102.txt</td>\n",
              "      <td>BUTTIGIEG</td>\n",
              "      <td>BUTTIGIEG</td>\n",
              "    </tr>\n",
              "  </tbody>\n",
              "</table>\n",
              "</div>"
            ],
            "text/plain": [
              "             FILE     MODEL1     MODEL2\n",
              "81     test_1.txt  BUTTIGIEG       YANG\n",
              "102   test_10.txt  BUTTIGIEG       YANG\n",
              "104  test_100.txt     WARREN     WARREN\n",
              "29   test_101.txt    GABBARD     HARRIS\n",
              "11   test_102.txt  BUTTIGIEG  BUTTIGIEG"
            ]
          },
          "metadata": {
            "tags": []
          },
          "execution_count": 67
        }
      ]
    },
    {
      "cell_type": "code",
      "metadata": {
        "id": "sEuVAcsowyAn",
        "colab_type": "code",
        "colab": {}
      },
      "source": [
        "#CONVERT TO TXT FILE\n",
        "final_submission.to_csv('submission.txt', sep='\\t', index=False)"
      ],
      "execution_count": null,
      "outputs": []
    }
  ]
}